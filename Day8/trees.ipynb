{
 "cells": [
  {
   "attachments": {},
   "cell_type": "markdown",
   "metadata": {},
   "source": [
    "# --- Day 8: Treetop Tree House ---\n",
    "\n",
    "The expedition comes across a peculiar patch of tall trees all planted carefully in a grid. The Elves explain that a previous expedition planted these trees as a reforestation effort. Now, they're curious if this would be a good location for a tree house.\n",
    "\n",
    "First, determine whether there is enough tree cover here to keep a tree house hidden. To do this, you need to count the number of trees that are visible from outside the grid when looking directly along a row or column.\n",
    "\n",
    "The Elves have already launched a quadcopter to generate a map with the height of each tree (your puzzle input). For example:\n",
    "\n",
    "    30373\n",
    "    25512\n",
    "    65332\n",
    "    33549\n",
    "    35390\n",
    "\n",
    "Each tree is represented as a single digit whose value is its height, where 0 is the shortest and 9 is the tallest.\n",
    "\n",
    "A tree is visible if all of the other trees between it and an edge of the grid are shorter than it. Only consider trees in the same row or column; that is, only look up, down, left, or right from any given tree.\n",
    "\n",
    "All of the trees around the edge of the grid are visible - since they are already on the edge, there are no trees to block the view. In this example, that only leaves the interior nine trees to consider:\n",
    "\n",
    "    The top-left 5 is visible from the left and top. (It isn't visible from the right or bottom since other trees of height 5 are in the way.)\n",
    "    The top-middle 5 is visible from the top and right.\n",
    "    The top-right 1 is not visible from any direction; for it to be visible, there would need to only be trees of height 0 between it and an edge.\n",
    "    The left-middle 5 is visible, but only from the right.\n",
    "    The center 3 is not visible from any direction; for it to be visible, there would need to be only trees of at most height 2 between it and an edge.\n",
    "    The right-middle 3 is visible from the right.\n",
    "    In the bottom row, the middle 5 is visible, but the 3 and 4 are not.\n",
    "\n",
    "With 16 trees visible on the edge and another 5 visible in the interior, a total of 21 trees are visible in this arrangement.\n",
    "\n",
    "Consider your map; how many trees are visible from outside the grid?\n"
   ]
  },
  {
   "cell_type": "code",
   "execution_count": 134,
   "metadata": {},
   "outputs": [],
   "source": [
    "with open('in.txt') as f:\n",
    "\ttrees = f.read().splitlines()"
   ]
  },
  {
   "cell_type": "code",
   "execution_count": 135,
   "metadata": {},
   "outputs": [],
   "source": [
    "with open('test.txt') as f:\n",
    "\ttest_trees = f.read().splitlines()"
   ]
  },
  {
   "cell_type": "code",
   "execution_count": 136,
   "metadata": {},
   "outputs": [],
   "source": [
    "def leftview(i, row_trees, visibles):\n",
    "\tif len(row_trees) == 0:\t\t# First tree is the tallest in previous iteration\n",
    "\t\treturn visibles\n",
    "\telif len(row_trees) == 1:\t# 2nd tree is the tallest in previous iteration\n",
    "\t\tvisibles.add((i,0))\n",
    "\t\treturn visibles\n",
    "\telse:\n",
    "\t\ttallest_position = row_trees.find(max(row_trees))\n",
    "\t\tvisibles.add((i,tallest_position))\n",
    "\t\tnew_row_trees = row_trees[:tallest_position]\n",
    "\t\treturn leftview(i, new_row_trees, visibles)"
   ]
  },
  {
   "cell_type": "code",
   "execution_count": 137,
   "metadata": {},
   "outputs": [],
   "source": [
    "def rightview_reversed(i, row_trees, visibles, og_size):\n",
    "\tif len(row_trees) == 0:\t\t# First (from the right) tree is the tallest in the LAST iteration\n",
    "\t\treturn visibles\n",
    "\telif len(row_trees) == 1:\t# First (from the right) tree is the tallest in THIS iteration\n",
    "\t\tvisibles.add((i,og_size-1)) \t# -1 is the last position in the row\n",
    "\t\treturn visibles\n",
    "\telse:\n",
    "\t\ttallest_position = row_trees.rfind(max(row_trees))\n",
    "\t\tvisibles.add((i,og_size - 1 - tallest_position))\n",
    "\t\tnew_row_trees = row_trees[tallest_position+1:]\n",
    "\t\treturn rightview_reversed(i, new_row_trees, visibles, og_size)"
   ]
  },
  {
   "cell_type": "code",
   "execution_count": 138,
   "metadata": {},
   "outputs": [],
   "source": [
    "def topview(j, col_trees, visibles):\n",
    "\tif len(col_trees) == 0:\t\t# First (from the top) tree is the tallest in the LAST iteration\n",
    "\t\treturn visibles\n",
    "\telif len(col_trees) == 1:\t# First (from the top) tree is the tallest in THIS iteration\n",
    "\t\tvisibles.add((0,j))\n",
    "\t\treturn visibles\n",
    "\telse:\n",
    "\t\ttallest_position = col_trees.find(max(col_trees))\n",
    "\t\tvisibles.add((tallest_position,j))\n",
    "\t\tnew_col_trees = col_trees[:tallest_position]\n",
    "\t\treturn topview(j, new_col_trees, visibles)"
   ]
  },
  {
   "cell_type": "code",
   "execution_count": 139,
   "metadata": {},
   "outputs": [],
   "source": [
    "def bottomview_reversed(j, col_trees, visibles, og_size):\n",
    "\tif len(col_trees) == 0:\t\t# First (from the bottom) tree is the tallest in the LAST iteration\n",
    "\t\treturn visibles\n",
    "\telif len(col_trees) == 1:\t# First (from the bottom) tree is the tallest in THIS iteration\n",
    "\t\tvisibles.add((og_size-1,j))\n",
    "\t\treturn visibles\n",
    "\telse:\n",
    "\t\ttallest_position = col_trees.rfind(max(col_trees))\n",
    "\t\tvisibles.add(( og_size - 1 - tallest_position,j))\n",
    "\t\tnew_col_trees = col_trees[tallest_position+1:]\n",
    "\t\treturn bottomview_reversed(j, new_col_trees, visibles, og_size)"
   ]
  },
  {
   "cell_type": "code",
   "execution_count": 140,
   "metadata": {},
   "outputs": [],
   "source": [
    "def transpose(trees):\n",
    "\ttrees_transpose = [[] for i in range(len(trees[0]))]\n",
    "\ttrees = list(zip(*trees))\n",
    "\tfor i in range(len(trees)):\n",
    "\t\tline = ''\n",
    "\t\tfor j in range(len(trees[i])):\n",
    "\t\t\tline += trees[i][j]\n",
    "\t\ttrees_transpose[i] = line\n",
    "\treturn trees_transpose"
   ]
  },
  {
   "cell_type": "code",
   "execution_count": 141,
   "metadata": {},
   "outputs": [],
   "source": [
    "def transpose2(trees):\n",
    "\ttress = list(map(list, zip(*trees)))\n",
    "\tfor i in range(len(tress)):\n",
    "\t\ttress[i] = str(tress[i]).replace(',','').replace(' ','').replace(\"'\",'').replace('[','').replace(']','')\n",
    "\treturn tress"
   ]
  },
  {
   "cell_type": "code",
   "execution_count": 142,
   "metadata": {},
   "outputs": [],
   "source": [
    "def relfect(trees):\n",
    "\tfor i in range(len(trees)):\n",
    "\t\ttrees[i] = trees[i][::-1]\n",
    "\treturn trees"
   ]
  },
  {
   "cell_type": "code",
   "execution_count": 143,
   "metadata": {},
   "outputs": [
    {
     "name": "stdout",
     "output_type": "stream",
     "text": [
      "1750\n",
      "0\n"
     ]
    }
   ],
   "source": [
    "visibles = set()\n",
    "og = len(trees)\n",
    "og_tranpose = len(trees[0])\n",
    "\n",
    "for i, row_trees in enumerate(trees):\n",
    "\tvisibles = leftview(i, row_trees, visibles)\n",
    "\n",
    "trees = relfect(trees)\n",
    "for i, row_trees in enumerate(trees):\n",
    "\tvisibles = rightview_reversed(i, row_trees, visibles, og)\n",
    "\n",
    "trees = relfect(trees)\n",
    "trees_transposed = transpose(trees)\n",
    "for j, col_trees in enumerate(trees_transposed):\n",
    "\tvisibles = topview(j, col_trees, visibles)\n",
    "\n",
    "trees_transposed = relfect(trees_transposed)\n",
    "for j, col_trees in enumerate(trees_transposed):\n",
    "\tvisibles = bottomview_reversed(j, col_trees, visibles, og_tranpose)\n",
    "\n",
    "print(len(visibles))"
   ]
  },
  {
   "cell_type": "code",
   "execution_count": null,
   "metadata": {},
   "outputs": [],
   "source": []
  }
 ],
 "metadata": {
  "kernelspec": {
   "display_name": "Python 3",
   "language": "python",
   "name": "python3"
  },
  "language_info": {
   "codemirror_mode": {
    "name": "ipython",
    "version": 3
   },
   "file_extension": ".py",
   "mimetype": "text/x-python",
   "name": "python",
   "nbconvert_exporter": "python",
   "pygments_lexer": "ipython3",
   "version": "3.11.0"
  },
  "orig_nbformat": 4,
  "vscode": {
   "interpreter": {
    "hash": "8bb183d6f65149bde25a8207ad2fb4989b2757aac3d3ec63796cdeb74924c51a"
   }
  }
 },
 "nbformat": 4,
 "nbformat_minor": 2
}
