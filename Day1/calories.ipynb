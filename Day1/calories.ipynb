{
 "cells": [
  {
   "attachments": {},
   "cell_type": "markdown",
   "metadata": {},
   "source": [
    "Part1"
   ]
  },
  {
   "cell_type": "code",
   "execution_count": 33,
   "metadata": {},
   "outputs": [],
   "source": [
    "import numpy as np"
   ]
  },
  {
   "cell_type": "code",
   "execution_count": 34,
   "metadata": {},
   "outputs": [],
   "source": [
    "with open('calories.txt') as f:\n",
    "\tcalories = f.read().split('\\n\\n')"
   ]
  },
  {
   "cell_type": "code",
   "execution_count": 35,
   "metadata": {},
   "outputs": [],
   "source": [
    "elf_calories = []\n",
    "sum = 0\n",
    "for calorie in calories:\n",
    "\tcalorie = calorie.split('\\n')\n",
    "\tfor c in calorie:\n",
    "\t\tsum += int(c)\n",
    "\telf_calories.append(sum)\n",
    "\tsum = 0\n"
   ]
  },
  {
   "cell_type": "code",
   "execution_count": 36,
   "metadata": {},
   "outputs": [
    {
     "name": "stdout",
     "output_type": "stream",
     "text": [
      "Elf #159 has the most calories: 75501\n"
     ]
    }
   ],
   "source": [
    "print(f\"Elf #{elf_calories.index(max(elf_calories))} has the most calories: {max(elf_calories)}\")"
   ]
  },
  {
   "attachments": {},
   "cell_type": "markdown",
   "metadata": {},
   "source": [
    "Part2"
   ]
  },
  {
   "cell_type": "code",
   "execution_count": null,
   "metadata": {},
   "outputs": [],
   "source": [
    "total = 0\n",
    "indexes = []\n",
    "for i in range(3):\n",
    "\ttotal += max(elf_calories)\n",
    "\tindexes.append(elf_calories.index(max(elf_calories)))\n",
    "\telf_calories.remove(max(elf_calories))\n",
    "\n",
    "print(f\"Total calories: {total}, ELfs: {indexes}\")"
   ]
  }
 ],
 "metadata": {
  "kernelspec": {
   "display_name": "Python 3",
   "language": "python",
   "name": "python3"
  },
  "language_info": {
   "codemirror_mode": {
    "name": "ipython",
    "version": 3
   },
   "file_extension": ".py",
   "mimetype": "text/x-python",
   "name": "python",
   "nbconvert_exporter": "python",
   "pygments_lexer": "ipython3",
   "version": "3.11.0"
  },
  "orig_nbformat": 4,
  "vscode": {
   "interpreter": {
    "hash": "8bb183d6f65149bde25a8207ad2fb4989b2757aac3d3ec63796cdeb74924c51a"
   }
  }
 },
 "nbformat": 4,
 "nbformat_minor": 2
}
