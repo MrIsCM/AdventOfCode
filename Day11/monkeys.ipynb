{
 "cells": [
  {
   "cell_type": "code",
   "execution_count": 34,
   "metadata": {},
   "outputs": [],
   "source": [
    "with open('in.txt', 'r') as f:\n",
    "\tdata = f.read().splitlines()\n",
    "\n",
    "with open('test.txt', 'r') as f:\n",
    "\ttest = f.read().splitlines()"
   ]
  },
  {
   "cell_type": "code",
   "execution_count": 81,
   "metadata": {},
   "outputs": [],
   "source": [
    "def parse(test):\n",
    "\tmonkeys = []\n",
    "\tfor line in test:\n",
    "\t\tif line.strip()[:6] == 'Monkey':\n",
    "\t\t\tmonkeys.append({'id': int(line.strip()[-2])})\n",
    "\t\telif line.strip()[:8] == 'Starting':\n",
    "\t\t\tmonkeys[-1].update({'items' : [int(x) for x in line.strip()[15:].split(',')]})\n",
    "\t\telif line.strip()[:9] == 'Operation':\n",
    "\t\t\tif line.strip()[-9:] == 'old * old':\n",
    "\t\t\t\tmonkeys[-1].update({'operation': ['**', 2]}) \n",
    "\t\t\telse:\n",
    "\t\t\t\tmonkeys[-1].update({'operation': line.strip()[21:].split(' ')})\n",
    "\t\telif line.strip()[:4] == 'Test':\n",
    "\t\t\tmonkeys[-1].update({'test': [int(line.strip()[19:])]})\n",
    "\t\telif line.strip()[:7] == 'If true':\n",
    "\t\t\t# monkeys[-1].update({'True' : int(line.strip()[-1])})\n",
    "\t\t\tmonkeys[-1]['test'].append(int(line.strip()[-1]))\n",
    "\t\telif line.strip()[:8] == 'If false':\n",
    "\t\t\t# monkeys[-1].update({'False' : int(line.strip()[-1])})\n",
    "\t\t\tmonkeys[-1]['test'].append(int(line.strip()[-1]))\n",
    "\t\telif line.strip() == '':\n",
    "\t\t\tmonkeys[-1].update({'inspected': 0})\n",
    "\t\telse:\n",
    "\t\t\tprint('Error')\n",
    "\t\t\tprint(line)\n",
    "\n",
    "\treturn monkeys"
   ]
  },
  {
   "cell_type": "code",
   "execution_count": 82,
   "metadata": {},
   "outputs": [],
   "source": [
    "def operate(item, operations):\n",
    "\tif operations[0] == '+':\n",
    "\t\titem += int(operations[1])\n",
    "\telif operations[0] == '-':\n",
    "\t\titem -= int(operations[1])\n",
    "\telif operations[0] == '*':\n",
    "\t\titem *= int(operations[1])\n",
    "\telif operations[0] == '/':\n",
    "\t\titem /= int(operations[1])\n",
    "\telif operations[0] == '**':\n",
    "\t\titem **= int(operations[1])\n",
    "\treturn item"
   ]
  },
  {
   "cell_type": "code",
   "execution_count": 86,
   "metadata": {},
   "outputs": [
    {
     "data": {
      "text/plain": [
       "[{'id': 0,\n",
       "  'items': [79, 98],\n",
       "  'operation': ['*', '19'],\n",
       "  'test': [23, 2, 3],\n",
       "  'inspected': 0},\n",
       " {'id': 1,\n",
       "  'items': [54, 65, 75, 74],\n",
       "  'operation': ['+', '6'],\n",
       "  'test': [19, 2, 0],\n",
       "  'inspected': 0},\n",
       " {'id': 2,\n",
       "  'items': [79, 60, 97],\n",
       "  'operation': ['*', 'old'],\n",
       "  'test': [13, 1, 3],\n",
       "  'inspected': 0},\n",
       " {'id': 3, 'items': [74], 'operation': ['+', '3'], 'test': [17, 0, 1]}]"
      ]
     },
     "execution_count": 86,
     "metadata": {},
     "output_type": "execute_result"
    }
   ],
   "source": [
    "monkeys = parse(test)\n",
    "monkeys"
   ]
  },
  {
   "cell_type": "code",
   "execution_count": 84,
   "metadata": {},
   "outputs": [],
   "source": [
    "def part1(monkeys, rounds=20):\n",
    "\tfor round in range(rounds):\n",
    "\t\tfor i in range(len(monkeys)):\n",
    "\t\t\t\tfor item in monkeys[i]['items']:\n",
    "\t\t\t\t\tif item != -1:\n",
    "\t\t\t\t\t\tmonkeys[i]['inspected'] += 1\n",
    "\t\t\t\t\t\tnew_item = operate(item, monkeys[i]['operation'])\n",
    "\t\t\t\t\t\tnew_item = new_item//3 \n",
    "\t\t\t\t\t\t\n",
    "\t\t\t\t\t\tif new_item % monkeys[i]['test'][0] == 0:\n",
    "\t\t\t\t\t\t\tmonkeys[monkeys[i]['test'][1]]['items'].append(new_item)\n",
    "\t\t\t\t\t\t\tmonkeys[i]['items'].remove(item)\n",
    "\t\t\t\t\t\t\tif -1 not in monkeys[i]['items']:\n",
    "\t\t\t\t\t\t\t\tmonkeys[i]['items'].append(-1)\n",
    "\t\t\t\t\t\telse:\n",
    "\t\t\t\t\t\t\tmonkeys[monkeys[i]['test'][2]]['items'].append(new_item)\n",
    "\t\t\t\t\t\t\tmonkeys[i]['items'].remove(item)\n",
    "\t\t\t\t\t\t\tif -1 not in monkeys[i]['items']:\n",
    "\t\t\t\t\t\t\t\tmonkeys[i]['items'].append(-1)"
   ]
  },
  {
   "cell_type": "code",
   "execution_count": 85,
   "metadata": {},
   "outputs": [
    {
     "ename": "ValueError",
     "evalue": "invalid literal for int() with base 10: 'old'",
     "output_type": "error",
     "traceback": [
      "\u001b[1;31m---------------------------------------------------------------------------\u001b[0m",
      "\u001b[1;31mValueError\u001b[0m                                Traceback (most recent call last)",
      "Cell \u001b[1;32mIn[85], line 1\u001b[0m\n\u001b[1;32m----> 1\u001b[0m part1(monkeys)\n",
      "Cell \u001b[1;32mIn[84], line 7\u001b[0m, in \u001b[0;36mpart1\u001b[1;34m(monkeys, rounds)\u001b[0m\n\u001b[0;32m      5\u001b[0m \u001b[39mif\u001b[39;00m item \u001b[39m!=\u001b[39m \u001b[39m-\u001b[39m\u001b[39m1\u001b[39m:\n\u001b[0;32m      6\u001b[0m \tmonkeys[i][\u001b[39m'\u001b[39m\u001b[39minspected\u001b[39m\u001b[39m'\u001b[39m] \u001b[39m+\u001b[39m\u001b[39m=\u001b[39m \u001b[39m1\u001b[39m\n\u001b[1;32m----> 7\u001b[0m \tnew_item \u001b[39m=\u001b[39m operate(item, monkeys[i][\u001b[39m'\u001b[39;49m\u001b[39moperation\u001b[39;49m\u001b[39m'\u001b[39;49m])\n\u001b[0;32m      8\u001b[0m \tnew_item \u001b[39m=\u001b[39m new_item\u001b[39m/\u001b[39m\u001b[39m/\u001b[39m\u001b[39m3\u001b[39m \n\u001b[0;32m     10\u001b[0m \t\u001b[39mif\u001b[39;00m new_item \u001b[39m%\u001b[39m monkeys[i][\u001b[39m'\u001b[39m\u001b[39mtest\u001b[39m\u001b[39m'\u001b[39m][\u001b[39m0\u001b[39m] \u001b[39m==\u001b[39m \u001b[39m0\u001b[39m:\n",
      "Cell \u001b[1;32mIn[82], line 7\u001b[0m, in \u001b[0;36moperate\u001b[1;34m(item, operations)\u001b[0m\n\u001b[0;32m      5\u001b[0m \titem \u001b[39m-\u001b[39m\u001b[39m=\u001b[39m \u001b[39mint\u001b[39m(operations[\u001b[39m1\u001b[39m])\n\u001b[0;32m      6\u001b[0m \u001b[39melif\u001b[39;00m operations[\u001b[39m0\u001b[39m] \u001b[39m==\u001b[39m \u001b[39m'\u001b[39m\u001b[39m*\u001b[39m\u001b[39m'\u001b[39m:\n\u001b[1;32m----> 7\u001b[0m \titem \u001b[39m*\u001b[39m\u001b[39m=\u001b[39m \u001b[39mint\u001b[39;49m(operations[\u001b[39m1\u001b[39;49m])\n\u001b[0;32m      8\u001b[0m \u001b[39melif\u001b[39;00m operations[\u001b[39m0\u001b[39m] \u001b[39m==\u001b[39m \u001b[39m'\u001b[39m\u001b[39m/\u001b[39m\u001b[39m'\u001b[39m:\n\u001b[0;32m      9\u001b[0m \titem \u001b[39m/\u001b[39m\u001b[39m=\u001b[39m \u001b[39mint\u001b[39m(operations[\u001b[39m1\u001b[39m])\n",
      "\u001b[1;31mValueError\u001b[0m: invalid literal for int() with base 10: 'old'"
     ]
    }
   ],
   "source": [
    "part1(monkeys)"
   ]
  },
  {
   "cell_type": "code",
   "execution_count": 44,
   "metadata": {},
   "outputs": [],
   "source": [
    "list_of_dict = [{'items': None, 'inspected': 0}, {'items': 0, 'inspected': 0}, {'items': 1, 'inspected': 1}, {'items': 2, 'inspected': 2}, {'items': 3, 'inspected': 3}]"
   ]
  }
 ],
 "metadata": {
  "kernelspec": {
   "display_name": "Python 3",
   "language": "python",
   "name": "python3"
  },
  "language_info": {
   "codemirror_mode": {
    "name": "ipython",
    "version": 3
   },
   "file_extension": ".py",
   "mimetype": "text/x-python",
   "name": "python",
   "nbconvert_exporter": "python",
   "pygments_lexer": "ipython3",
   "version": "3.11.0"
  },
  "orig_nbformat": 4,
  "vscode": {
   "interpreter": {
    "hash": "8bb183d6f65149bde25a8207ad2fb4989b2757aac3d3ec63796cdeb74924c51a"
   }
  }
 },
 "nbformat": 4,
 "nbformat_minor": 2
}
