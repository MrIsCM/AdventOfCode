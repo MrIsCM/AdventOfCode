{
 "cells": [
  {
   "cell_type": "code",
   "execution_count": 23,
   "metadata": {},
   "outputs": [],
   "source": [
    "from collections import deque"
   ]
  },
  {
   "cell_type": "code",
   "execution_count": 24,
   "metadata": {},
   "outputs": [],
   "source": [
    "# Input\n",
    "with open('in.txt', 'r') as f:\n",
    "\tgrid = f.read().splitlines()\n",
    "# Test\n",
    "with open('test.txt', 'r') as f:\n",
    "\ttest = f.read().splitlines()"
   ]
  },
  {
   "cell_type": "code",
   "execution_count": 25,
   "metadata": {},
   "outputs": [],
   "source": [
    "def find_S_and_E(grid):\n",
    "\tfor r, line in enumerate(grid):\n",
    "\t\tif 'S' in line:\n",
    "\t\t\tstart = (r, line.index('S'))\n",
    "\t\tif 'E' in line:\n",
    "\t\t\tend = (r, line.index('E'))\n",
    "\treturn start, end"
   ]
  },
  {
   "cell_type": "code",
   "execution_count": 27,
   "metadata": {},
   "outputs": [],
   "source": [
    "def find_path(grid):\n",
    "\n",
    "\t# Height dictionary. a = 1, b = 2, ..., z = 26, S = a = 1, E = z = 26\n",
    "\t# ASCII values: a=97, z=122\n",
    "\theight_dict = {chr(i): i-ord('a')+1 for i in range(ord('a'), ord('z')+1)}\n",
    "\theight_dict['S'] = 1\n",
    "\theight_dict['E'] = 26\n",
    "\n",
    "\t# Find start and end point\n",
    "\tstart, end = find_S_and_E(grid)\n",
    "\t# Posible moves\n",
    "\tdirections = [(0,1), (0,-1), (1,0), (-1,0)]\n",
    "\t\n",
    "\n",
    "\tqueue = deque()\n",
    "\tvisited = set()\n",
    "\tqueue.append([start])\n",
    "\n",
    "\n",
    "\twhile queue:\n",
    "\t\tcurrent = queue.popleft()\n",
    "\t\ti, j = current[-1]\n",
    "\t\tif (i,j) not in visited:\n",
    "\t\t\tvisited.add((i,j))\n",
    "\t\t\tif current == end:\n",
    "\t\t\t\treturn current, len(current) - 1\n",
    "\t\t\theight1 = height_dict[grid[i][j]]\n",
    "\t\t\tfor dx, dy in directions:\n",
    "\t\t\t\tnx, ny = i+dx, j+dy\n",
    "\t\t\t\tif 0 <= nx < len(grid) and 0 <= ny < len(grid[0]):\n",
    "\t\t\t\t\theight2 = height_dict[grid[nx][ny]]\n",
    "\t\t\t\t\tif height2 - height1 <= 1:\n",
    "\t\t\t\t\t\tpath = current[:]\n",
    "\t\t\t\t\t\tpath.append((nx, ny))\n",
    "\t\t\t\t\t\tqueue.append(path)"
   ]
  },
  {
   "cell_type": "code",
   "execution_count": 29,
   "metadata": {},
   "outputs": [
    {
     "name": "stdout",
     "output_type": "stream",
     "text": [
      "Distance: 447\n"
     ]
    }
   ],
   "source": [
    "path, distance = find_path(grid)\n",
    "# print('Path:', path)\n",
    "print('Distance:', distance)"
   ]
  }
 ],
 "metadata": {
  "kernelspec": {
   "display_name": "Python 3",
   "language": "python",
   "name": "python3"
  },
  "language_info": {
   "codemirror_mode": {
    "name": "ipython",
    "version": 3
   },
   "file_extension": ".py",
   "mimetype": "text/x-python",
   "name": "python",
   "nbconvert_exporter": "python",
   "pygments_lexer": "ipython3",
   "version": "3.11.0"
  },
  "orig_nbformat": 4,
  "vscode": {
   "interpreter": {
    "hash": "8bb183d6f65149bde25a8207ad2fb4989b2757aac3d3ec63796cdeb74924c51a"
   }
  }
 },
 "nbformat": 4,
 "nbformat_minor": 2
}
