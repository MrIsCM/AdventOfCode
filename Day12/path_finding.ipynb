{
 "cells": [
  {
   "cell_type": "code",
   "execution_count": 56,
   "metadata": {},
   "outputs": [],
   "source": [
    "from collections import deque"
   ]
  },
  {
   "cell_type": "code",
   "execution_count": 57,
   "metadata": {},
   "outputs": [],
   "source": [
    "# Input\n",
    "with open('in.txt', 'r') as f:\n",
    "\tgrid = f.read().splitlines()\n",
    "# Test\n",
    "with open('test.txt', 'r') as f:\n",
    "\ttest = f.read().splitlines()"
   ]
  },
  {
   "cell_type": "code",
   "execution_count": 58,
   "metadata": {},
   "outputs": [],
   "source": [
    "def parse_grid(test): \n",
    "\tgrid = [[] for i in range(len(test))]\n",
    "\tfor c in range(len(test)):\n",
    "\t\tfor r in range(len(test[0])):\n",
    "\t\t\tif test[c][r] == 'S':\n",
    "\t\t\t\tgrid[c].append(0)\n",
    "\t\t\telif test[c][r] == 'E':\n",
    "\t\t\t\tgrid[c].append(26)\n",
    "\t\t\telse:\n",
    "\t\t\t\tgrid[c].append(ord(test[c][r])-ord('a')+1)\n",
    "\treturn grid"
   ]
  },
  {
   "cell_type": "code",
   "execution_count": 59,
   "metadata": {},
   "outputs": [],
   "source": [
    "def find_S_and_E(grid):\n",
    "\tfor r, line in enumerate(grid):\n",
    "\t\tif 'S' in line:\n",
    "\t\t\tstart = (r, line.index('S'))\n",
    "\t\telif 'E' in line:\n",
    "\t\t\tend = (r, line.index('E'))\n",
    "\treturn start, end"
   ]
  },
  {
   "cell_type": "code",
   "execution_count": 88,
   "metadata": {},
   "outputs": [],
   "source": [
    "def find_path(grid):\n",
    "\n",
    "\t# Height dictionary. a = 1, b = 2, ..., z = 26, S = a = 1, E = z = 26\n",
    "\t# ASCII values: a=97, z=122\n",
    "\theight_dict = {chr(i): i-ord('a')+1 for i in range(ord('a'), ord('z')+1)}\n",
    "\theight_dict['S'] = 1\n",
    "\theight_dict['E'] = 26\n",
    "\n",
    "\t# Find start and end point\n",
    "\tstart, end = find_S_and_E(grid)\n",
    "\t# Posible moves\n",
    "\tdirections = [(0,1), (0,-1), (1,0), (-1,0)]\n",
    "\t\n",
    "\n",
    "\tqueue = deque()\n",
    "\tvisited = set()\n",
    "\tqueue.append([start])\n",
    "\n",
    "\n",
    "\twhile queue:\n",
    "\t\tcurrent = list(queue.popleft())\n",
    "\t\ti, j = current[-1]\n",
    "\t\tif current not in visited:\n",
    "\t\t\tvisited.add((i,j))\n",
    "\t\t\tif current == end:\n",
    "\t\t\t\treturn current, len(current) - 1\n",
    "\t\t\theight1 = height_dict[grid[i][j]]\n",
    "\t\t\tfor dx, dy in directions:\n",
    "\t\t\t\tnx, ny = i+dx, j+dy\n",
    "\t\t\t\tif 0 <= nx < len(grid) and 0 <= ny < len(grid[0]):\n",
    "\t\t\t\t\theight2 = height_dict[grid[nx][ny]]\n",
    "\t\t\t\t\tif height2 - height1 <= 1:\n",
    "\t\t\t\t\t\tpath = current[:]\n",
    "\t\t\t\t\t\tpath.append((nx, ny))\n",
    "\t\t\t\t\t\tqueue.append(path)"
   ]
  },
  {
   "cell_type": "code",
   "execution_count": 89,
   "metadata": {},
   "outputs": [
    {
     "ename": "TypeError",
     "evalue": "unhashable type: 'list'",
     "output_type": "error",
     "traceback": [
      "\u001b[1;31m---------------------------------------------------------------------------\u001b[0m",
      "\u001b[1;31mTypeError\u001b[0m                                 Traceback (most recent call last)",
      "Cell \u001b[1;32mIn[89], line 1\u001b[0m\n\u001b[1;32m----> 1\u001b[0m find_path(test)\n",
      "Cell \u001b[1;32mIn[88], line 23\u001b[0m, in \u001b[0;36mfind_path\u001b[1;34m(grid)\u001b[0m\n\u001b[0;32m     21\u001b[0m current \u001b[39m=\u001b[39m \u001b[39mlist\u001b[39m(queue\u001b[39m.\u001b[39mpopleft())\n\u001b[0;32m     22\u001b[0m i, j \u001b[39m=\u001b[39m current[\u001b[39m-\u001b[39m\u001b[39m1\u001b[39m]\n\u001b[1;32m---> 23\u001b[0m \u001b[39mif\u001b[39;00m current \u001b[39mnot\u001b[39;49;00m \u001b[39min\u001b[39;49;00m visited:\n\u001b[0;32m     24\u001b[0m \tvisited\u001b[39m.\u001b[39madd(current)\n\u001b[0;32m     25\u001b[0m \t\u001b[39mif\u001b[39;00m current \u001b[39m==\u001b[39m end:\n",
      "\u001b[1;31mTypeError\u001b[0m: unhashable type: 'list'"
     ]
    }
   ],
   "source": [
    "find_path(test)"
   ]
  }
 ],
 "metadata": {
  "kernelspec": {
   "display_name": "Python 3",
   "language": "python",
   "name": "python3"
  },
  "language_info": {
   "codemirror_mode": {
    "name": "ipython",
    "version": 3
   },
   "file_extension": ".py",
   "mimetype": "text/x-python",
   "name": "python",
   "nbconvert_exporter": "python",
   "pygments_lexer": "ipython3",
   "version": "3.11.0"
  },
  "orig_nbformat": 4,
  "vscode": {
   "interpreter": {
    "hash": "8bb183d6f65149bde25a8207ad2fb4989b2757aac3d3ec63796cdeb74924c51a"
   }
  }
 },
 "nbformat": 4,
 "nbformat_minor": 2
}
