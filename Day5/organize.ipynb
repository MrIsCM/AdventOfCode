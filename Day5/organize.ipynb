{
 "cells": [
  {
   "attachments": {},
   "cell_type": "markdown",
   "metadata": {},
   "source": [
    "# --- Day 5: Supply Stacks ---\n",
    "\n",
    "The expedition can depart as soon as the final supplies have been unloaded from the ships. Supplies are stored in stacks of marked crates, but because the needed supplies are buried under many other crates, the crates need to be rearranged.\n",
    "\n",
    "The ship has a giant cargo crane capable of moving crates between stacks. To ensure none of the crates get crushed or fall over, the crane operator will rearrange them in a series of carefully-planned steps. After the crates are rearranged, the desired crates will be at the top of each stack.\n",
    "\n",
    "The Elves don't want to interrupt the crane operator during this delicate procedure, but they forgot to ask her which crate will end up where, and they want to be ready to unload them as soon as possible so they can embark.\n",
    "\n",
    "They do, however, have a drawing of the starting stacks of crates and the rearrangement procedure (your puzzle input). For example:\n",
    "\n",
    "    [D]    \n",
    "[N] [C]    \n",
    "[Z] [M] [P]\n",
    " 1   2   3 \n",
    "\n",
    "move 1 from 2 to 1\n",
    "move 3 from 1 to 3\n",
    "move 2 from 2 to 1\n",
    "move 1 from 1 to 2\n",
    "\n",
    "In this example, there are three stacks of crates. Stack 1 contains two crates: crate Z is on the bottom, and crate N is on top. Stack 2 contains three crates; from bottom to top, they are crates M, C, and D. Finally, stack 3 contains a single crate, P.\n",
    "\n",
    "Then, the rearrangement procedure is given. In each step of the procedure, a quantity of crates is moved from one stack to a different stack. In the first step of the above rearrangement procedure, one crate is moved from stack 2 to stack 1, resulting in this configuration:\n",
    "\n",
    "[D]        \n",
    "[N] [C]    \n",
    "[Z] [M] [P]\n",
    " 1   2   3 \n",
    "\n",
    "In the second step, three crates are moved from stack 1 to stack 3. Crates are moved one at a time, so the first crate to be moved (D) ends up below the second and third crates:\n",
    "\n",
    "[Z]\n",
    "[N]\n",
    "[C] [D]\n",
    "[M] [P]\n",
    "\n",
    "1   2   3\n",
    "\n",
    "Then, both crates are moved from stack 2 to stack 1. Again, because crates are moved one at a time, crate C ends up below crate M:\n",
    "\n",
    "[Z] [-] [-]\n",
    "[N] [-] [-]\n",
    "[M]     [D]\n",
    "[C]     [P]\n",
    "\n",
    "1   2   3\n",
    "\n",
    "Finally, one crate is moved from stack 1 to stack 2:\n",
    "\n",
    "[-] [-] [Z]\n",
    "[-] [-] [N]\n",
    "[-] [-] [D]\n",
    "[C] [M] [P]\n",
    "\n",
    " 1   2   3\n",
    "\n",
    "The Elves just need to know which crate will end up on top of each stack; in this example, the top crates are C in stack 1, M in stack 2, and Z in stack 3, so you should combine these together and give the Elves the message CMZ.\n",
    "\n",
    "After the rearrangement procedure completes, what crate ends up on top of each stack?\n"
   ]
  },
  {
   "cell_type": "code",
   "execution_count": 246,
   "metadata": {},
   "outputs": [],
   "source": [
    "# Read input\n",
    "with open('input.txt') as f:\n",
    "\tlines = f.readlines()"
   ]
  },
  {
   "cell_type": "code",
   "execution_count": 247,
   "metadata": {},
   "outputs": [],
   "source": [
    "# Find index where stacks separate from orders\n",
    "for i, line in enumerate(lines):\n",
    "\tif line == '\\n':\n",
    "\t\tsep = i"
   ]
  },
  {
   "cell_type": "code",
   "execution_count": 248,
   "metadata": {},
   "outputs": [],
   "source": [
    "# Get the cargo and orders separately from input\n",
    "cargo = [line for line in lines[0: sep]]\n",
    "cargo = [line.rstrip() for line in cargo]\n",
    "\n",
    "orders = [line for line in lines[sep+1:]]\n",
    "orders = [line.rstrip() for line in orders]"
   ]
  },
  {
   "cell_type": "code",
   "execution_count": 249,
   "metadata": {},
   "outputs": [],
   "source": [
    "# # Write cargo and orders separetly to files\n",
    "# with open('cargo.txt', 'w') as f:\n",
    "# \tfor line in cargo:\n",
    "# \t\tf.write(line + '\\n')\n",
    "\n",
    "# with open('orders.txt', 'w') as f:\n",
    "# \tfor line in orders:\n",
    "# \t\tf.write(line + '\\n')"
   ]
  },
  {
   "cell_type": "code",
   "execution_count": 250,
   "metadata": {},
   "outputs": [],
   "source": [
    "# Format orders in 3 separate numbers. [Number of crates to move, from stack, to stack]\n",
    "orders = [line.split(' ') for line in orders]\n",
    "orders = [[int(order[1]), int(order[3]), int(order[5])] for order in orders]"
   ]
  },
  {
   "cell_type": "code",
   "execution_count": 251,
   "metadata": {},
   "outputs": [],
   "source": [
    "# Positions where the crates ID are on the list (alligned with the pile number)\n",
    "index = [i for i in range(len(cargo[8])) if cargo[8][i] in ['1', '2', '3', '4', '5', '6', '7', '8', '9']]"
   ]
  },
  {
   "cell_type": "code",
   "execution_count": 252,
   "metadata": {},
   "outputs": [],
   "source": [
    "# Format the stacks in a list of lists where the first index is the pile number and the second index is the crate ID\n",
    "stacks = [[] for i in range(len(index))]\n",
    "for i in range(len(cargo)-2,-1, -1):\n",
    "\tfor j in range(len(index)):\n",
    "\t\tif cargo[i][index[j]] != ' ':\n",
    "\t\t\tstacks[j].append(cargo[i][index[j]])"
   ]
  },
  {
   "cell_type": "code",
   "execution_count": 253,
   "metadata": {},
   "outputs": [],
   "source": [
    "# Execute the orders (inversing the order of the moved crates)\n",
    "for order in orders:\n",
    "\tnumber, from_pile, to_pile = order\n",
    "\tfor i in range(number):\n",
    "\t\tstacks[to_pile-1].append(stacks[from_pile-1].pop()) \t#.pop() get the last element and remove it from the list"
   ]
  },
  {
   "cell_type": "code",
   "execution_count": 254,
   "metadata": {},
   "outputs": [
    {
     "name": "stdout",
     "output_type": "stream",
     "text": [
      "WSFTMRHPP\n"
     ]
    }
   ],
   "source": [
    "# Last element of each pile. Proper format for the answer\n",
    "answer = ''\n",
    "for stack in stacks:\n",
    "\tanswer += stack[-1]\n",
    "print(answer)"
   ]
  },
  {
   "attachments": {},
   "cell_type": "markdown",
   "metadata": {},
   "source": [
    "# --- Part Two ---\n",
    "\n",
    "As you watch the crane operator expertly rearrange the crates, you notice the process isn't following your prediction.\n",
    "\n",
    "Some mud was covering the writing on the side of the crane, and you quickly wipe it away. The crane isn't a CrateMover 9000 - it's a CrateMover 9001.\n",
    "\n",
    "The CrateMover 9001 is notable for many new and exciting features: air conditioning, leather seats, an extra cup holder, and the ability to pick up and move multiple crates at once.\n",
    "\n",
    "Again considering the example above, the crates begin in the same configuration:\n",
    "\n",
    "    [D]    \n",
    "[N] [C]    \n",
    "[Z] [M] [P]\n",
    " 1   2   3 \n",
    "\n",
    "Moving a single crate from stack 2 to stack 1 behaves the same as before:\n",
    "\n",
    "[D]        \n",
    "[N] [C]    \n",
    "[Z] [M] [P]\n",
    " 1   2   3 \n",
    "\n",
    "However, the action of moving three crates from stack 1 to stack 3 means that those three moved crates stay in the same order, resulting in this new configuration:\n",
    "\n",
    "        [D]\n",
    "        [N]\n",
    "    [C] [Z]\n",
    "    [M] [P]\n",
    " 1   2   3\n",
    "\n",
    "Next, as both crates are moved from stack 2 to stack 1, they retain their order as well:\n",
    "\n",
    "        [D]\n",
    "        [N]\n",
    "[C]     [Z]\n",
    "[M]     [P]\n",
    " 1   2   3\n",
    "\n",
    "Finally, a single crate is still moved from stack 1 to stack 2, but now it's crate C that gets moved:\n",
    "\n",
    "        [D]\n",
    "        [N]\n",
    "        [Z]\n",
    "[M] [C] [P]\n",
    " 1   2   3\n",
    "\n",
    "In this example, the CrateMover 9001 has put the crates in a totally different order: MCD.\n",
    "\n",
    "Before the rearrangement process finishes, update your simulation so that the Elves know where they should stand to be ready to unload the final supplies. After the rearrangement procedure completes, what crate ends up on top of each stack?\n"
   ]
  },
  {
   "cell_type": "code",
   "execution_count": 255,
   "metadata": {},
   "outputs": [],
   "source": [
    "# Get crates in order. First index is the pile number, second correspond to the crates ID in order\n",
    "stacks = [[] for i in range(len(index))]\n",
    "for i in range(len(cargo)-2,-1, -1):\n",
    "\tfor j in range(len(index)):\n",
    "\t\tif cargo[i][index[j]] != ' ':\n",
    "\t\t\tstacks[j].append(cargo[i][index[j]])"
   ]
  },
  {
   "cell_type": "code",
   "execution_count": 256,
   "metadata": {},
   "outputs": [],
   "source": [
    "moving = [] \t# Aux string of the moving crates\n",
    "for order in orders:\n",
    "\tnumber, from_pile, to_pile = order\n",
    "\tfor i in range(number):\n",
    "\t\tmoving.append(stacks[from_pile-1].pop()) \t# Moved Crates in reverse order\n",
    "\tfor i in range(number):\n",
    "\t\tstacks[to_pile-1].append(moving.pop()) \t\t# Reverse the moving crates in reversed order getting the original order"
   ]
  },
  {
   "cell_type": "code",
   "execution_count": 257,
   "metadata": {},
   "outputs": [
    {
     "name": "stdout",
     "output_type": "stream",
     "text": [
      "GSLCMFBRP\n"
     ]
    }
   ],
   "source": [
    "# Get last element of each stack and append them without spaces (for a proper answer format)\n",
    "answer = ''\n",
    "for stack in stacks:\n",
    "\tanswer += stack[-1]\n",
    "print(answer)"
   ]
  }
 ],
 "metadata": {
  "kernelspec": {
   "display_name": "Python 3",
   "language": "python",
   "name": "python3"
  },
  "language_info": {
   "codemirror_mode": {
    "name": "ipython",
    "version": 3
   },
   "file_extension": ".py",
   "mimetype": "text/x-python",
   "name": "python",
   "nbconvert_exporter": "python",
   "pygments_lexer": "ipython3",
   "version": "3.11.0"
  },
  "orig_nbformat": 4,
  "vscode": {
   "interpreter": {
    "hash": "8bb183d6f65149bde25a8207ad2fb4989b2757aac3d3ec63796cdeb74924c51a"
   }
  }
 },
 "nbformat": 4,
 "nbformat_minor": 2
}
