{
 "cells": [
  {
   "cell_type": "code",
   "execution_count": 113,
   "metadata": {},
   "outputs": [],
   "source": [
    "import numpy as np \n",
    "import pandas as pd "
   ]
  },
  {
   "cell_type": "markdown",
   "metadata": {},
   "source": [
    "# Part 1"
   ]
  },
  {
   "cell_type": "code",
   "execution_count": 118,
   "metadata": {},
   "outputs": [],
   "source": [
    "with open('reactor.txt') as f:\n",
    "\tlines = f.readlines()"
   ]
  },
  {
   "cell_type": "code",
   "execution_count": 119,
   "metadata": {},
   "outputs": [],
   "source": [
    "def check_safe_level(numbers):\n",
    "\tdiffs = np.diff(numbers)\n",
    "\n",
    "\tif np.any(diffs<=0) and np.any(diffs>=0):\n",
    "\t\treturn False\n",
    "\n",
    "\tif np.any(abs(diffs)>3) or np.any(abs(diffs)<1):\n",
    "\t\treturn False\n",
    "\n",
    "\treturn True"
   ]
  },
  {
   "cell_type": "code",
   "execution_count": 120,
   "metadata": {},
   "outputs": [
    {
     "name": "stdout",
     "output_type": "stream",
     "text": [
      "218\n"
     ]
    }
   ],
   "source": [
    "safe_levels = 0\n",
    "\n",
    "for line in lines:\n",
    "\tnumbers = list(map(int, line.split()))\n",
    "\n",
    "\tif check_safe_level(numbers):\n",
    "\t\tsafe_levels += 1\n",
    "\n",
    "p1 = safe_levels\n",
    "\n",
    "print(safe_levels)"
   ]
  },
  {
   "cell_type": "markdown",
   "metadata": {},
   "source": [
    "# Part 2"
   ]
  },
  {
   "cell_type": "code",
   "execution_count": 121,
   "metadata": {},
   "outputs": [
    {
     "name": "stdout",
     "output_type": "stream",
     "text": [
      "290\n"
     ]
    }
   ],
   "source": [
    "safe_levels = 0\n",
    "\n",
    "for line in lines:\n",
    "\tnumbers = list(map(int, line.split()))\n",
    "\n",
    "\tif check_safe_level(numbers):\n",
    "\t\tsafe_levels += 1\n",
    "\t\tcontinue\n",
    "\n",
    "\t# Try removing one level at a time\n",
    "\tfor i in range(len(numbers)):\n",
    "\t\tnew_line = numbers[:i] + numbers[i+1:]\n",
    "\t\tif check_safe_level(new_line):\n",
    "\t\t\tsafe_levels += 1\n",
    "\t\t\t# If correct, don't need to check removing other levels\n",
    "\t\t\tbreak\n",
    "\n",
    "\tp2 = safe_levels\n",
    "\n",
    "print(safe_levels)"
   ]
  }
 ],
 "metadata": {
  "kernelspec": {
   "display_name": "Python 3",
   "language": "python",
   "name": "python3"
  },
  "language_info": {
   "codemirror_mode": {
    "name": "ipython",
    "version": 3
   },
   "file_extension": ".py",
   "mimetype": "text/x-python",
   "name": "python",
   "nbconvert_exporter": "python",
   "pygments_lexer": "ipython3",
   "version": "3.12.1"
  }
 },
 "nbformat": 4,
 "nbformat_minor": 2
}
