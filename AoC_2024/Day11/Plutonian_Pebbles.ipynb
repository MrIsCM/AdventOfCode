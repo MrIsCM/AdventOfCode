{
 "cells": [
  {
   "cell_type": "markdown",
   "metadata": {},
   "source": [
    "# Plutonian Pebbles"
   ]
  },
  {
   "cell_type": "code",
   "execution_count": 1,
   "metadata": {},
   "outputs": [],
   "source": [
    "from collections import Counter"
   ]
  },
  {
   "cell_type": "markdown",
   "metadata": {},
   "source": [
    "## Part 1"
   ]
  },
  {
   "cell_type": "code",
   "execution_count": 2,
   "metadata": {},
   "outputs": [],
   "source": [
    "def parse_input(sample=False, mode=\"r\", file_path=\"Plutonian_Pebbles.txt\"):\n",
    "\tfile_path = file_path if not sample else \"sample.txt\"\n",
    "\twith open(file_path, mode) as f:\n",
    "\t\tline = f.readline().strip()\n",
    "\t\treturn [int(x) for x in line.split()]"
   ]
  },
  {
   "cell_type": "code",
   "execution_count": 3,
   "metadata": {},
   "outputs": [],
   "source": [
    "def modif_by_rules(stone):\n",
    "\tif stone == 0:\n",
    "\t\treturn [1]\n",
    "\t\n",
    "\telif len(str(stone)) % 2 == 0:\n",
    "\t\thalf_len = len(str(stone))//2\n",
    "\t\treturn [int(str(stone)[:half_len]), int(str(stone)[half_len:])]\n",
    "\t\n",
    "\telse:\n",
    "\t\treturn [stone*2024]"
   ]
  },
  {
   "cell_type": "code",
   "execution_count": 4,
   "metadata": {},
   "outputs": [],
   "source": [
    "def part1(sample=True, BLINKS=25):\n",
    "\t# First I don't really need the specific order, I just need the number of stones (len(stones))\n",
    "\tstones = parse_input(sample=sample)\n",
    "\tfor _ in range(BLINKS):\n",
    "\t\tnew_stones = []\n",
    "\t\tfor stone in stones:\n",
    "\t\t\tnew_stones.extend(modif_by_rules(stone))\n",
    "\t\tstones = new_stones\n",
    "\n",
    "\tprint(len(stones))"
   ]
  },
  {
   "cell_type": "code",
   "execution_count": 5,
   "metadata": {},
   "outputs": [
    {
     "name": "stdout",
     "output_type": "stream",
     "text": [
      "--- Part 1 ---\n",
      "55312\n",
      "185894\n"
     ]
    }
   ],
   "source": [
    "print(\"--- Part 1 ---\")\n",
    "part1(sample=True)\n",
    "part1(sample=False)"
   ]
  },
  {
   "cell_type": "markdown",
   "metadata": {},
   "source": [
    "## Part 2"
   ]
  },
  {
   "cell_type": "code",
   "execution_count": 6,
   "metadata": {},
   "outputs": [],
   "source": [
    "def part2(sample=True, BLINKS=25):\n",
    "\tstones = Counter(parse_input(sample=sample))\n",
    "\tfor _ in range(BLINKS):\n",
    "\t\tnew_stones = Counter()\n",
    "\t\tfor value, count in stones.items():\n",
    "\t\t\tnew_values = modif_by_rules(value)\n",
    "\n",
    "\t\t\t# When splitting a stone in 2, the count of each stone is the same as the original stone\n",
    "\t\t\t# When splitting a stone in 2 with count n, now I have 2 stones with count n, total count = 2n\n",
    "\t\t\tfor new_value in new_values:\n",
    "\t\t\t\tnew_stones[new_value] += count\n",
    "\n",
    "\t\tstones = new_stones\n",
    "\n",
    "\tsuma = 0\n",
    "\tfor _, count in stones.items():\n",
    "\t\tsuma += count\n",
    "\n",
    "\tprint(suma)"
   ]
  },
  {
   "cell_type": "code",
   "execution_count": 7,
   "metadata": {},
   "outputs": [
    {
     "name": "stdout",
     "output_type": "stream",
     "text": [
      "--- Part 1 ---\n",
      "55312\n",
      "185894\n",
      "\n",
      "\n",
      "\n",
      "--- Part 2 ---\n",
      "65601038650482\n",
      "221632504974231\n"
     ]
    }
   ],
   "source": [
    "print(\"--- Part 1 ---\")\n",
    "part2(sample=True, BLINKS=25)\n",
    "part2(sample=False, BLINKS=25)\n",
    "\n",
    "print(\"\\n\\n\")\n",
    "\n",
    "print(\"--- Part 2 ---\")\n",
    "part2(sample=True, BLINKS=75)\n",
    "part2(sample=False, BLINKS=75)"
   ]
  }
 ],
 "metadata": {
  "kernelspec": {
   "display_name": "Python 3",
   "language": "python",
   "name": "python3"
  },
  "language_info": {
   "codemirror_mode": {
    "name": "ipython",
    "version": 3
   },
   "file_extension": ".py",
   "mimetype": "text/x-python",
   "name": "python",
   "nbconvert_exporter": "python",
   "pygments_lexer": "ipython3",
   "version": "3.12.1"
  }
 },
 "nbformat": 4,
 "nbformat_minor": 2
}
