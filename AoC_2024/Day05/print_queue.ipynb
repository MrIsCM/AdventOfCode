{
 "cells": [
  {
   "cell_type": "markdown",
   "metadata": {},
   "source": [
    "# Print Queue\n",
    "\n",
    "## Part 1"
   ]
  },
  {
   "cell_type": "code",
   "execution_count": 93,
   "metadata": {},
   "outputs": [],
   "source": [
    "with open(\"print_queue.txt\", \"r\") as f:\n",
    "\tlines = f.readlines()"
   ]
  },
  {
   "cell_type": "code",
   "execution_count": 94,
   "metadata": {},
   "outputs": [],
   "source": [
    "def split_list_by_key(some_list, key):\n",
    "\tfor i, item in enumerate(some_list):\n",
    "\t\tif item == key:\n",
    "\t\t\tsplit_idx = i\n",
    "\t\t\tbreak\n",
    "\t\n",
    "\treturn some_list[:split_idx], some_list[split_idx+1:]"
   ]
  },
  {
   "cell_type": "code",
   "execution_count": 95,
   "metadata": {},
   "outputs": [],
   "source": [
    "rules, pages = split_list_by_key(lines, \"\\n\")"
   ]
  },
  {
   "cell_type": "code",
   "execution_count": 96,
   "metadata": {},
   "outputs": [],
   "source": [
    "formated_rules = []\n",
    "for rule in rules:\n",
    "\tbefore, after = rule.split(\"|\")\n",
    "\tformated_rules.append((int(before), int(after)))"
   ]
  },
  {
   "cell_type": "code",
   "execution_count": 97,
   "metadata": {},
   "outputs": [],
   "source": [
    "formated_pages = []\n",
    "for page in pages:\n",
    "\tformated_pages.append([int(x) for x in page.split(\",\")])"
   ]
  },
  {
   "cell_type": "code",
   "execution_count": 98,
   "metadata": {},
   "outputs": [],
   "source": [
    "def check_page(page, rules):\n",
    "\t\tfor i, item in enumerate(page):\n",
    "\t\t\tfor rule in rules:\n",
    "\t\t\t\tif item == rule[1] and any(x == rule[0] for x in page[i+1:]):\n",
    "\t\t\t\t\treturn False\n",
    "\t\t\t\t\n",
    "\t\treturn True"
   ]
  },
  {
   "cell_type": "code",
   "execution_count": 99,
   "metadata": {},
   "outputs": [],
   "source": [
    "def add_middle_pages(pages, rules):\n",
    "\tsuma = 0\n",
    "\tfor page in pages:\n",
    "\t\tif check_page(page, rules):\n",
    "\t\t\tsuma += page[len(page)//2]\n",
    "\t\n",
    "\treturn suma"
   ]
  },
  {
   "cell_type": "code",
   "execution_count": 100,
   "metadata": {},
   "outputs": [
    {
     "data": {
      "text/plain": [
       "4185"
      ]
     },
     "execution_count": 100,
     "metadata": {},
     "output_type": "execute_result"
    }
   ],
   "source": [
    "add_middle_pages(formated_pages, formated_rules)"
   ]
  }
 ],
 "metadata": {
  "kernelspec": {
   "display_name": "Python 3",
   "language": "python",
   "name": "python3"
  },
  "language_info": {
   "codemirror_mode": {
    "name": "ipython",
    "version": 3
   },
   "file_extension": ".py",
   "mimetype": "text/x-python",
   "name": "python",
   "nbconvert_exporter": "python",
   "pygments_lexer": "ipython3",
   "version": "3.12.1"
  }
 },
 "nbformat": 4,
 "nbformat_minor": 2
}
