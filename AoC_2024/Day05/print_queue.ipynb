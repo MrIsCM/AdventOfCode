{
 "cells": [
  {
   "cell_type": "markdown",
   "metadata": {},
   "source": [
    "# Print Queue\n",
    "\n",
    "## Part 1"
   ]
  },
  {
   "cell_type": "code",
   "execution_count": 198,
   "metadata": {},
   "outputs": [],
   "source": [
    "with open(\"print_queue.txt\", \"r\") as f:\n",
    "\tlines = f.readlines()"
   ]
  },
  {
   "cell_type": "code",
   "execution_count": 199,
   "metadata": {},
   "outputs": [],
   "source": [
    "def split_list_by_key(some_list, key):\n",
    "\tfor i, item in enumerate(some_list):\n",
    "\t\tif item == key:\n",
    "\t\t\tsplit_idx = i\n",
    "\t\t\tbreak\n",
    "\t\n",
    "\treturn some_list[:split_idx], some_list[split_idx+1:]"
   ]
  },
  {
   "cell_type": "code",
   "execution_count": 200,
   "metadata": {},
   "outputs": [],
   "source": [
    "rules, pages = split_list_by_key(lines, \"\\n\")"
   ]
  },
  {
   "cell_type": "code",
   "execution_count": 201,
   "metadata": {},
   "outputs": [],
   "source": [
    "formated_rules = []\n",
    "for rule in rules:\n",
    "\tbefore, after = rule.split(\"|\")\n",
    "\tformated_rules.append((int(before), int(after)))"
   ]
  },
  {
   "cell_type": "code",
   "execution_count": 202,
   "metadata": {},
   "outputs": [],
   "source": [
    "formated_pages = []\n",
    "for page in pages:\n",
    "\tformated_pages.append([int(x) for x in page.split(\",\")])"
   ]
  },
  {
   "cell_type": "code",
   "execution_count": 203,
   "metadata": {},
   "outputs": [],
   "source": [
    "def check_page(page, rules):\n",
    "\t\tfor i, item in enumerate(page):\n",
    "\t\t\tfor rule in rules:\n",
    "\t\t\t\tif item == rule[1] and any(x == rule[0] for x in page[i+1:]):\n",
    "\t\t\t\t\treturn False\n",
    "\t\t\t\t\n",
    "\t\treturn True"
   ]
  },
  {
   "cell_type": "code",
   "execution_count": 204,
   "metadata": {},
   "outputs": [],
   "source": [
    "def add_middle_pages(pages, rules):\n",
    "\tsuma = 0\n",
    "\tfor page in pages:\n",
    "\t\tif check_page(page, rules):\n",
    "\t\t\tsuma += page[len(page)//2]\n",
    "\t\n",
    "\treturn suma"
   ]
  },
  {
   "cell_type": "code",
   "execution_count": 205,
   "metadata": {},
   "outputs": [],
   "source": [
    "# More efficient version\n",
    "def add_middle_pages_v2(pages, rules) -> int:\n",
    "\tsuma = 0\n",
    "\tfor page in pages:\n",
    "\t\trelevant_rules = [rule for rule in rules if rule[0] in page and rule[1] in page]\n",
    "\t\tif check_page(page, relevant_rules):\n",
    "\t\t\tsuma += page[len(page)//2]\n",
    "\t\n",
    "\treturn suma"
   ]
  },
  {
   "cell_type": "code",
   "execution_count": 206,
   "metadata": {},
   "outputs": [],
   "source": [
    "# add_middle_pages(formated_pages, formated_rules)"
   ]
  },
  {
   "cell_type": "code",
   "execution_count": 207,
   "metadata": {},
   "outputs": [
    {
     "data": {
      "text/plain": [
       "4185"
      ]
     },
     "execution_count": 207,
     "metadata": {},
     "output_type": "execute_result"
    }
   ],
   "source": [
    "# More efficient version\n",
    "add_middle_pages_v2(formated_pages, formated_rules)"
   ]
  },
  {
   "cell_type": "markdown",
   "metadata": {},
   "source": [
    "## Part 2"
   ]
  },
  {
   "cell_type": "code",
   "execution_count": 208,
   "metadata": {},
   "outputs": [
    {
     "data": {
      "text/plain": [
       "91"
      ]
     },
     "execution_count": 208,
     "metadata": {},
     "output_type": "execute_result"
    }
   ],
   "source": [
    "incorrect_pages = []\n",
    "for page in formated_pages:\n",
    "\tif not check_page(page, formated_rules):\n",
    "\t\tincorrect_pages.append(page)\n",
    "\n",
    "len(incorrect_pages)"
   ]
  },
  {
   "cell_type": "code",
   "execution_count": 209,
   "metadata": {},
   "outputs": [],
   "source": [
    "def order_pages(pages, rules):\n",
    "\tordered_pages = []\n",
    "\tfor page in pages:\n",
    "\t\tordered_current = []\n",
    "\t\twhile page:\n",
    "\t\t\trelevant_rules = [rule for rule in rules if rule[0] in page and rule[1] in page]\n",
    "\t\t\tfor item in page:\n",
    "\t\t\t\tif not any(item == rule[1] for rule in relevant_rules):\n",
    "\t\t\t\t\tordered_current.append(item)\n",
    "\t\t\t\t\tpage.remove(item)\n",
    "\t\t\t\t\tbreak\n",
    "\t\t\n",
    "\t\tordered_pages.append(ordered_current)\n",
    "\n",
    "\treturn ordered_pages"
   ]
  },
  {
   "cell_type": "code",
   "execution_count": 210,
   "metadata": {},
   "outputs": [],
   "source": [
    "ordered = order_pages(incorrect_pages, formated_rules)"
   ]
  },
  {
   "cell_type": "code",
   "execution_count": 211,
   "metadata": {},
   "outputs": [
    {
     "data": {
      "text/plain": [
       "4480"
      ]
     },
     "execution_count": 211,
     "metadata": {},
     "output_type": "execute_result"
    }
   ],
   "source": [
    "suma = 0\n",
    "for page in ordered:\n",
    "\tsuma += page[len(page)//2]\n",
    "suma"
   ]
  }
 ],
 "metadata": {
  "kernelspec": {
   "display_name": "Python 3",
   "language": "python",
   "name": "python3"
  },
  "language_info": {
   "codemirror_mode": {
    "name": "ipython",
    "version": 3
   },
   "file_extension": ".py",
   "mimetype": "text/x-python",
   "name": "python",
   "nbconvert_exporter": "python",
   "pygments_lexer": "ipython3",
   "version": "3.12.1"
  }
 },
 "nbformat": 4,
 "nbformat_minor": 2
}
