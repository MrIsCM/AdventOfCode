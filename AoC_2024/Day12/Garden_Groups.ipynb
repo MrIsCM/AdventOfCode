{
 "cells": [
  {
   "cell_type": "markdown",
   "metadata": {},
   "source": [
    "# Graden Groups"
   ]
  },
  {
   "cell_type": "code",
   "execution_count": 9,
   "metadata": {},
   "outputs": [],
   "source": [
    "import numpy as np"
   ]
  },
  {
   "cell_type": "markdown",
   "metadata": {
    "vscode": {
     "languageId": "plaintext"
    }
   },
   "source": [
    "## Part 1"
   ]
  },
  {
   "cell_type": "code",
   "execution_count": 1,
   "metadata": {},
   "outputs": [],
   "source": [
    "def parse_input(n_sample=None, file_path=\"Garden_Groups.txt\", mode=\"r\"):\n",
    "\tif n_sample is not None:\n",
    "\t\tfile_path = f\"sample{n_sample}.txt\"\n",
    "\t\twith open(file_path, mode) as f:\n",
    "\t\t\treturn f.read().splitlines()\n",
    "\n",
    "\telse:\n",
    "\t\twith open(file_path, mode) as f:\n",
    "\t\t\treturn f.read().splitlines()"
   ]
  },
  {
   "cell_type": "code",
   "execution_count": 2,
   "metadata": {},
   "outputs": [],
   "source": [
    "def get_group(garden, x, y, group_type=None, group_perimeter=None, group_edge_positions=None, visited=None):\n",
    "\t\n",
    "\tdirections = [(0, 1), (0, -1), (1, 0), (-1, 0)]\n",
    "\t\n",
    "\tif visited is None:\n",
    "\t\tvisited = set()\n",
    "\tif group_type is None:\n",
    "\t\tgroup_type = garden[x][y]\n",
    "\tif group_perimeter is None:\n",
    "\t\tgroup_perimeter = 0\n",
    "\tif group_edge_positions is None:\n",
    "\t\tgroup_edge_positions = set()\n",
    "\n",
    "\tif (x, y) in visited:\n",
    "\t\treturn visited\n",
    "\t\n",
    "\tvisited.add((x, y))\n",
    "\tgroup_edge_positions.add((x, y))\n",
    "\n",
    "\tfor (dx, dy) in directions:\n",
    "\t\tnx, ny = x + dx, y + dy\n",
    "\t\tif nx < 0 or nx >= len(garden) or ny < 0 or ny >= len(garden[0]):\n",
    "\t\t\tgroup_perimeter += 1\n",
    "\t\t\tgroup_edge_positions.add((x, y))\n",
    "\t\t\tcontinue\n",
    "\t\telif (nx, ny) in visited:\n",
    "\t\t\tcontinue\n",
    "\t\telif garden[nx][ny] != group_type:\n",
    "\t\t\tgroup_perimeter += 1\n",
    "\t\t\tgroup_edge_positions.add((x, y))\n",
    "\t\t\tcontinue\n",
    "\t\telse:\n",
    "\t\t\t_, group_perimeter, group_edge_positions = get_group(garden, nx, ny, group_type, group_perimeter, group_edge_positions, visited)\n",
    "\t\t\n",
    "\treturn visited, group_perimeter, group_edge_positions"
   ]
  },
  {
   "cell_type": "code",
   "execution_count": 3,
   "metadata": {},
   "outputs": [],
   "source": [
    "def get_all_groups(garden):\n",
    "\tgarden_dims = (len(garden), len(garden[0]))\n",
    "\n",
    "\tall_groups = []\n",
    "\tall_edges = []\n",
    "\tall_edge_positions = []\n",
    "\n",
    "\tgrouped_elements = [[False for _ in range(garden_dims[1])] for _ in range(garden_dims[0])]\n",
    "\n",
    "\tfor x in range(garden_dims[0]):\n",
    "\t\tfor y in range(garden_dims[1]):\n",
    "\t\t\tif grouped_elements[x][y]:\n",
    "\t\t\t\tcontinue\n",
    "\t\t\tgroup, edges, edge_pos = get_group(garden, x, y)\n",
    "\t\t\tall_groups.append((garden[x][y], group))\n",
    "\t\t\tall_edges.append(edges)\n",
    "\t\t\tall_edge_positions.append(edge_pos)\n",
    "\n",
    "\t\t\tfor (i, j) in group:\n",
    "\t\t\t\tgrouped_elements[i][j] = True\n",
    "\n",
    "\treturn all_groups, all_edges, all_edge_positions"
   ]
  },
  {
   "cell_type": "code",
   "execution_count": 4,
   "metadata": {},
   "outputs": [],
   "source": [
    "def get_cost(groups, edges, verbose=False):\n",
    "\tcost = 0 \n",
    "\tfor (group_type, group), edge in zip(groups, edges):\n",
    "\t\tif verbose:\n",
    "\t\t\tprint(group_type, len(group), edge, len(group) * edge)\n",
    "\t\tcost += len(group) * edge\n",
    "\n",
    "\treturn cost"
   ]
  },
  {
   "cell_type": "code",
   "execution_count": 5,
   "metadata": {},
   "outputs": [],
   "source": [
    "def part1(sample=None, verbose=False):\n",
    "\tgarden = parse_input(sample)\n",
    "\tgroups, edges, edge_pos = get_all_groups(garden)\n",
    "\tcost = get_cost(groups, edges, verbose=verbose)\n",
    "\treturn cost"
   ]
  },
  {
   "cell_type": "code",
   "execution_count": 6,
   "metadata": {},
   "outputs": [
    {
     "data": {
      "text/plain": [
       "1402544"
      ]
     },
     "execution_count": 6,
     "metadata": {},
     "output_type": "execute_result"
    }
   ],
   "source": [
    "part1()"
   ]
  },
  {
   "cell_type": "markdown",
   "metadata": {},
   "source": [
    "## Part 2"
   ]
  },
  {
   "cell_type": "code",
   "execution_count": 10,
   "metadata": {},
   "outputs": [],
   "source": [
    "def get_group_corners(group, garden_dims):\n",
    "\t\t\t\t\t\t#  Up,      Down\n",
    "\tvertical = np.array([(-1, 0), (1, 0)])\n",
    "\t\t\t\t\t\t#   Left,    Right \n",
    "\thorizontal = np.array([(0, -1), (0, 1)])\n",
    "\n",
    "\tdiagonals = np.array([(-1, -1), (-1, 1)],\n",
    "\t\t\t\t\t  [(1, -1), (1, 1)])\n",
    "\n",
    "\th, v, c = 0, 0, 0\n",
    "\th_idx, v_idx = None, None\n",
    "\n",
    "\t# Exterior corners\n",
    "\tfor (x, y) in group:\n",
    "\t\tactual_plant = np.array([x, y])\n",
    "\t\tfor j, v_dir in enumerate(vertical):\n",
    "\t\t\tif (actual_plant + v_dir) in group:\n",
    "\t\t\t\tv += 1\n",
    "\t\t\t\tv_idx = j\n",
    "\t\t\n",
    "\t\tfor i, h_dir in enumerate(horizontal):\n",
    "\t\t\tif (actual_plant + h_dir) in group:\n",
    "\t\t\t\th += 1\n",
    "\t\t\t\th_idx = i\t\t"
   ]
  }
 ],
 "metadata": {
  "kernelspec": {
   "display_name": "Python 3",
   "language": "python",
   "name": "python3"
  },
  "language_info": {
   "codemirror_mode": {
    "name": "ipython",
    "version": 3
   },
   "file_extension": ".py",
   "mimetype": "text/x-python",
   "name": "python",
   "nbconvert_exporter": "python",
   "pygments_lexer": "ipython3",
   "version": "3.12.1"
  }
 },
 "nbformat": 4,
 "nbformat_minor": 2
}
