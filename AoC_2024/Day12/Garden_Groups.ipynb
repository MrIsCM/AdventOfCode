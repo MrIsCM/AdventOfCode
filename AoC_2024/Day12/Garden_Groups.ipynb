{
 "cells": [
  {
   "cell_type": "markdown",
   "metadata": {},
   "source": [
    "# Graden Groups"
   ]
  },
  {
   "cell_type": "code",
   "execution_count": 14,
   "metadata": {},
   "outputs": [],
   "source": [
    "import numpy as np"
   ]
  },
  {
   "cell_type": "markdown",
   "metadata": {
    "vscode": {
     "languageId": "plaintext"
    }
   },
   "source": [
    "## Part 1"
   ]
  },
  {
   "cell_type": "code",
   "execution_count": 15,
   "metadata": {},
   "outputs": [],
   "source": [
    "def parse_input(n_sample=None, file_path=\"Garden_Groups.txt\", mode=\"r\"):\n",
    "\tif n_sample is not None:\n",
    "\t\tfile_path = f\"sample{n_sample}.txt\"\n",
    "\t\twith open(file_path, mode) as f:\n",
    "\t\t\treturn f.read().splitlines()\n",
    "\n",
    "\telse:\n",
    "\t\twith open(file_path, mode) as f:\n",
    "\t\t\treturn f.read().splitlines()"
   ]
  },
  {
   "cell_type": "code",
   "execution_count": 16,
   "metadata": {},
   "outputs": [],
   "source": [
    "def get_group(garden, x, y, group_type=None, group_perimeter=None, group_edge_positions=None, visited=None):\n",
    "\t\n",
    "\tdirections = [(0, 1), (0, -1), (1, 0), (-1, 0)]\n",
    "\t\n",
    "\tif visited is None:\n",
    "\t\tvisited = set()\n",
    "\tif group_type is None:\n",
    "\t\tgroup_type = garden[x][y]\n",
    "\tif group_perimeter is None:\n",
    "\t\tgroup_perimeter = 0\n",
    "\tif group_edge_positions is None:\n",
    "\t\tgroup_edge_positions = set()\n",
    "\n",
    "\tif (x, y) in visited:\n",
    "\t\treturn visited\n",
    "\t\n",
    "\tvisited.add((x, y))\n",
    "\tgroup_edge_positions.add((x, y))\n",
    "\n",
    "\tfor (dx, dy) in directions:\n",
    "\t\tnx, ny = x + dx, y + dy\n",
    "\t\tif nx < 0 or nx >= len(garden) or ny < 0 or ny >= len(garden[0]):\n",
    "\t\t\tgroup_perimeter += 1\n",
    "\t\t\tgroup_edge_positions.add((x, y))\n",
    "\t\t\tcontinue\n",
    "\t\telif (nx, ny) in visited:\n",
    "\t\t\tcontinue\n",
    "\t\telif garden[nx][ny] != group_type:\n",
    "\t\t\tgroup_perimeter += 1\n",
    "\t\t\tgroup_edge_positions.add((x, y))\n",
    "\t\t\tcontinue\n",
    "\t\telse:\n",
    "\t\t\t_, group_perimeter, group_edge_positions = get_group(garden, nx, ny, group_type, group_perimeter, group_edge_positions, visited)\n",
    "\t\t\n",
    "\treturn visited, group_perimeter, group_edge_positions"
   ]
  },
  {
   "cell_type": "code",
   "execution_count": 17,
   "metadata": {},
   "outputs": [],
   "source": [
    "def get_all_groups(garden):\n",
    "\tgarden_dims = (len(garden), len(garden[0]))\n",
    "\n",
    "\tall_groups = []\n",
    "\tall_edges = []\n",
    "\tall_edge_positions = []\n",
    "\n",
    "\tgrouped_elements = [[False for _ in range(garden_dims[1])] for _ in range(garden_dims[0])]\n",
    "\n",
    "\tfor x in range(garden_dims[0]):\n",
    "\t\tfor y in range(garden_dims[1]):\n",
    "\t\t\tif grouped_elements[x][y]:\n",
    "\t\t\t\tcontinue\n",
    "\t\t\tgroup, edges, edge_pos = get_group(garden, x, y)\n",
    "\t\t\tall_groups.append((garden[x][y], group))\n",
    "\t\t\tall_edges.append(edges)\n",
    "\t\t\tall_edge_positions.append(edge_pos)\n",
    "\n",
    "\t\t\tfor (i, j) in group:\n",
    "\t\t\t\tgrouped_elements[i][j] = True\n",
    "\n",
    "\treturn all_groups, all_edges, all_edge_positions"
   ]
  },
  {
   "cell_type": "code",
   "execution_count": 18,
   "metadata": {},
   "outputs": [],
   "source": [
    "def get_cost(groups, edges, verbose=False):\n",
    "\tcost = 0 \n",
    "\tfor (group_type, group), edge in zip(groups, edges):\n",
    "\t\tif verbose:\n",
    "\t\t\tprint(group_type, len(group), edge, len(group) * edge)\n",
    "\t\tcost += len(group) * edge\n",
    "\n",
    "\treturn cost"
   ]
  },
  {
   "cell_type": "code",
   "execution_count": 19,
   "metadata": {},
   "outputs": [],
   "source": [
    "def part1(sample=None, verbose=False):\n",
    "\tgarden = parse_input(sample)\n",
    "\tgroups, edges, edge_pos = get_all_groups(garden)\n",
    "\tcost = get_cost(groups, edges, verbose=verbose)\n",
    "\treturn cost"
   ]
  },
  {
   "cell_type": "code",
   "execution_count": 20,
   "metadata": {},
   "outputs": [
    {
     "data": {
      "text/plain": [
       "1402544"
      ]
     },
     "execution_count": 20,
     "metadata": {},
     "output_type": "execute_result"
    }
   ],
   "source": [
    "part1()"
   ]
  },
  {
   "cell_type": "markdown",
   "metadata": {},
   "source": [
    "## Part 2"
   ]
  },
  {
   "cell_type": "code",
   "execution_count": 73,
   "metadata": {},
   "outputs": [],
   "source": [
    "def get_edge_types(groups):\n",
    "\tedge_types = []\n",
    "\tdirections = [(0, 1), (0, -1), (1, 0), (-1, 0)]\n",
    "\tdirections_dict = {\n",
    "\t\t(0, 1): \"R\",\n",
    "\t\t(0, -1): \"L\",\n",
    "\t\t(1, 0): \"D\", \n",
    "\t\t(-1, 0): \"U\"\n",
    "\t}\n",
    "\n",
    "\tfor group_type, group_positions in groups:\n",
    "\n",
    "\t\tfor direction in directions:\n",
    "\t\t\tdx, dy = direction\n",
    "\t\t\tedge_type = directions_dict[direction]\n",
    "\t\t\tedge_positions = []\n",
    "\t\t\tfor pos in group_positions:\n",
    "\t\t\t\tx, y = pos\n",
    "\t\t\t\tnx, ny = x + dx, y + dy\n",
    "\t\t\t\tif (nx, ny) not in group_positions:\n",
    "\t\t\t\t\tedge_positions.append((x, y))\n",
    "\t\t\t\n",
    "\t\t\tedge_types.append((group_type, edge_type, edge_positions))\n",
    "\t\t\n",
    "\treturn edge_types"
   ]
  },
  {
   "cell_type": "code",
   "execution_count": 74,
   "metadata": {},
   "outputs": [],
   "source": [
    "sample = 1\n",
    "garden = parse_input(sample)\n",
    "groups, edges, edge_pos = get_all_groups(garden)"
   ]
  },
  {
   "cell_type": "code",
   "execution_count": 75,
   "metadata": {},
   "outputs": [],
   "source": [
    "edge_types = get_edge_types(groups)"
   ]
  },
  {
   "cell_type": "code",
   "execution_count": 76,
   "metadata": {},
   "outputs": [
    {
     "data": {
      "text/plain": [
       "[('A', 'R', [(0, 3)]),\n",
       " ('A', 'L', [(0, 0)]),\n",
       " ('A', 'D', [(0, 1), (0, 2), (0, 3), (0, 0)]),\n",
       " ('A', 'U', [(0, 1), (0, 2), (0, 3), (0, 0)]),\n",
       " ('B', 'R', [(1, 1), (2, 1)]),\n",
       " ('B', 'L', [(1, 0), (2, 0)]),\n",
       " ('B', 'D', [(2, 0), (2, 1)]),\n",
       " ('B', 'U', [(1, 0), (1, 1)]),\n",
       " ('C', 'R', [(2, 3), (1, 2), (3, 3)]),\n",
       " ('C', 'L', [(1, 2), (3, 3), (2, 2)]),\n",
       " ('C', 'D', [(3, 3), (2, 2)]),\n",
       " ('C', 'U', [(2, 3), (1, 2)]),\n",
       " ('D', 'R', [(1, 3)]),\n",
       " ('D', 'L', [(1, 3)]),\n",
       " ('D', 'D', [(1, 3)]),\n",
       " ('D', 'U', [(1, 3)]),\n",
       " ('E', 'R', [(3, 2)]),\n",
       " ('E', 'L', [(3, 0)]),\n",
       " ('E', 'D', [(3, 1), (3, 2), (3, 0)]),\n",
       " ('E', 'U', [(3, 1), (3, 2), (3, 0)])]"
      ]
     },
     "execution_count": 76,
     "metadata": {},
     "output_type": "execute_result"
    }
   ],
   "source": [
    "for group_type, edge_type, edge_positions in edge_types:\n",
    "\tpass"
   ]
  }
 ],
 "metadata": {
  "kernelspec": {
   "display_name": "Python 3",
   "language": "python",
   "name": "python3"
  },
  "language_info": {
   "codemirror_mode": {
    "name": "ipython",
    "version": 3
   },
   "file_extension": ".py",
   "mimetype": "text/x-python",
   "name": "python",
   "nbconvert_exporter": "python",
   "pygments_lexer": "ipython3",
   "version": "3.12.1"
  }
 },
 "nbformat": 4,
 "nbformat_minor": 2
}
