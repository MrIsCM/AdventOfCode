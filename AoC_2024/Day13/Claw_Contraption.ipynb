{
 "cells": [
  {
   "cell_type": "markdown",
   "metadata": {},
   "source": [
    "# Claw Contraption"
   ]
  },
  {
   "cell_type": "code",
   "execution_count": 104,
   "metadata": {},
   "outputs": [],
   "source": [
    "import numpy as np\n",
    "import re"
   ]
  },
  {
   "cell_type": "markdown",
   "metadata": {},
   "source": [
    "## Part 1"
   ]
  },
  {
   "cell_type": "code",
   "execution_count": 105,
   "metadata": {},
   "outputs": [],
   "source": [
    "def parse_input(sample=True, file_path=\"Claw_Contraption.txt\", mode=\"r\"):\n",
    "\tif sample:\n",
    "\t\tfile_path = \"sample.txt\"\n",
    "\n",
    "\twith open(file_path, mode) as file:\n",
    "\t\tdata = file.read().strip()\n",
    "\n",
    "\tblocks = data.split(\"\\n\\n\")\n",
    "\n",
    "\treturn blocks"
   ]
  },
  {
   "cell_type": "code",
   "execution_count": 106,
   "metadata": {},
   "outputs": [],
   "source": [
    "# Added offset for part 2\n",
    "def extract_X_Y_Prize(blocks, offset=0):\n",
    "\t\n",
    "\tpattern = (\n",
    "        r\"Button A: X\\+(\\d+), Y\\+(\\d+)\\n\"\n",
    "        r\"Button B: X\\+(\\d+), Y\\+(\\d+)\\n\"\n",
    "        r\"Prize: X=(\\d+), Y=(\\d+)\"\n",
    "    )\n",
    "\t\n",
    "\tmachines = []\n",
    "\n",
    "\tfor block in blocks:\n",
    "\t\tmatch = re.match(pattern, block)\n",
    "\t\tif match:\n",
    "\t\t\tvalues = {\n",
    "\t\t\t\t\"AX\": int(match.group(1)), \n",
    "\t\t\t\t\"AY\": int(match.group(2)),\n",
    "\t\t\t\t\"BX\": int(match.group(3)), \n",
    "\t\t  \t\t\"BY\": int(match.group(4)),\n",
    "\t\t\t\t\"PX\": int(match.group(5)) + offset,\n",
    "\t\t\t\t\"PY\": int(match.group(6)) + offset,\n",
    "\t\t\t}\n",
    "\n",
    "\t\t\tmachines.append(values)\n",
    "\n",
    "\treturn machines"
   ]
  },
  {
   "cell_type": "markdown",
   "metadata": {},
   "source": [
    "### Notes\n",
    "\n",
    "Equation setup:\n",
    "\n",
    "- Let $a$ be the number of presses of button A\n",
    "- Let $b$ be the number of presses of button B\n",
    "\n",
    "\\begin{align*}\n",
    "\n",
    "\tAX\\cdot a + BX\\cdot b &= PX \\\\\n",
    "\tAY\\cdot a + BY\\cdot b &= PY\n",
    "\n",
    "\\end{align*}\n",
    "\n",
    "In matrix form:\n",
    "\n",
    "\\begin{align*}\n",
    "\n",
    "\tC \\cdot X = P \\equiv \n",
    "\n",
    "\t\\begin{bmatrix}\n",
    "\t\tAX & BX \\\\\n",
    "\t\tAY & BY\n",
    "\t\\end{bmatrix}\n",
    "\t\\begin{bmatrix}\n",
    "\t\ta \\\\\n",
    "\t\tb\n",
    "\t\\end{bmatrix}\n",
    "\t&=\n",
    "\t\\begin{bmatrix}\n",
    "\t\tPX \\\\\n",
    "\t\tPY\n",
    "\t\\end{bmatrix}\n",
    "\n",
    "\\end{align*}\n",
    "\n",
    "Using Cramer's rule:\n",
    "\n",
    "\\begin{align*}\n",
    "\n",
    "\tdet(C) &= \n",
    "\t\\left | \n",
    "\t\t\\begin{matrix}\n",
    "\t\t\tAX & BX \\\\\n",
    "\t\t\tAY & BY\n",
    "\t\t\\end{matrix}\n",
    "\t\\right | \\\\\n",
    "\n",
    "\tdet(C_a) &=\n",
    "\t\\left | \n",
    "\t\t\\begin{matrix}\n",
    "\t\t\tPX & BX \\\\\n",
    "\t\t\tPY & BY\n",
    "\t\t\\end{matrix}\n",
    "\t\\right | \\\\\n",
    "\n",
    "\tdet(C_b) &=\n",
    "\t\\left | \n",
    "\t\t\\begin{matrix}\n",
    "\t\t\tAX & PX \\\\\n",
    "\t\t\tAY & PY\n",
    "\t\t\\end{matrix}\n",
    "\t\\right |\n",
    "\t\n",
    "\\end{align*}\n",
    "\n",
    "Solving:\n",
    "\n",
    "\\begin{align*}\n",
    "\n",
    "\ta &= \\frac{det(C_a)}{det(C)} \\\\\n",
    "\tb &= \\frac{det(C_b)}{det(C)}\n",
    "\n",
    "\\end{align*}"
   ]
  },
  {
   "cell_type": "code",
   "execution_count": 107,
   "metadata": {},
   "outputs": [],
   "source": [
    "def solve_cramers(machines):\n",
    "\tresults = []\n",
    "\tfor machine in machines:\n",
    "\t\tdet = machine[\"AX\"] * machine[\"BY\"] - machine[\"BX\"] * machine[\"AY\"]\n",
    "\t\tdet_a = machine[\"PX\"] * machine[\"BY\"] - machine[\"BX\"] * machine[\"PY\"]\n",
    "\t\tdet_b = machine[\"AX\"] * machine[\"PY\"] - machine[\"PX\"] * machine[\"AY\"]\n",
    "\n",
    "\t\ta = det_a / det\n",
    "\t\tb = det_b / det\n",
    "\n",
    "\t\tresults.append((a, b))\n",
    "\n",
    "\treturn results"
   ]
  },
  {
   "cell_type": "code",
   "execution_count": 108,
   "metadata": {},
   "outputs": [],
   "source": [
    "def valid_solution(results, one_hundred_rule=True, tol=1e-6):\n",
    "\tvalid_results = []\n",
    "\tfor (a, b) in results:\n",
    "\t\tif one_hundred_rule and (a > 100 or b > 100):\n",
    "\t\t\tcontinue\n",
    "\t\t\n",
    "\t\tif a - int(a) <= tol and b - int(b) <= tol:\n",
    "\t\t\ta = int(a)\n",
    "\t\t\tb = int(b)\n",
    "\n",
    "\t\t\tvalid_results.append((a, b))\n",
    "\n",
    "\treturn valid_results"
   ]
  },
  {
   "cell_type": "code",
   "execution_count": 109,
   "metadata": {},
   "outputs": [],
   "source": [
    "def calculate_token(valid_results, A_price=3, B_price=1):\n",
    "\ttokens = []\n",
    "\tfor (a, b) in valid_results:\n",
    "\t\ttokens.append(a * A_price + b * B_price)\n",
    "\n",
    "\treturn tokens"
   ]
  },
  {
   "cell_type": "code",
   "execution_count": 110,
   "metadata": {},
   "outputs": [],
   "source": [
    "def part1(sample=True):\n",
    "\tdata = parse_input(sample)\n",
    "\tmachines = extract_X_Y_Prize(data)\n",
    "\tresults = solve_cramers(machines)\n",
    "\tvalid_results = valid_solution(results)\n",
    "\ttokens = calculate_token(valid_results)\n",
    "\n",
    "\treturn sum(tokens)"
   ]
  },
  {
   "cell_type": "code",
   "execution_count": 111,
   "metadata": {},
   "outputs": [
    {
     "data": {
      "text/plain": [
       "(480, 28262)"
      ]
     },
     "execution_count": 111,
     "metadata": {},
     "output_type": "execute_result"
    }
   ],
   "source": [
    "part1(sample=True), part1(sample=False)"
   ]
  },
  {
   "cell_type": "markdown",
   "metadata": {},
   "source": [
    "## Part 2"
   ]
  },
  {
   "cell_type": "code",
   "execution_count": 112,
   "metadata": {},
   "outputs": [],
   "source": [
    "def part2(sample=True, offset=10000000000000):\n",
    "\tdata = parse_input(sample)\n",
    "\tmachines = extract_X_Y_Prize(data, offset)\n",
    "\tresults = solve_cramers(machines)\n",
    "\tvalid_results = valid_solution(results, one_hundred_rule=False)\n",
    "\ttokens = calculate_token(valid_results)\n",
    "\n",
    "\treturn sum(tokens)"
   ]
  },
  {
   "cell_type": "code",
   "execution_count": 113,
   "metadata": {},
   "outputs": [
    {
     "data": {
      "text/plain": [
       "(875318608908, 101406661266314)"
      ]
     },
     "execution_count": 113,
     "metadata": {},
     "output_type": "execute_result"
    }
   ],
   "source": [
    "part2(sample=True), part2(sample=False)"
   ]
  }
 ],
 "metadata": {
  "kernelspec": {
   "display_name": "Python 3",
   "language": "python",
   "name": "python3"
  },
  "language_info": {
   "codemirror_mode": {
    "name": "ipython",
    "version": 3
   },
   "file_extension": ".py",
   "mimetype": "text/x-python",
   "name": "python",
   "nbconvert_exporter": "python",
   "pygments_lexer": "ipython3",
   "version": "3.12.1"
  }
 },
 "nbformat": 4,
 "nbformat_minor": 2
}
