{
 "cells": [
  {
   "cell_type": "markdown",
   "metadata": {},
   "source": [
    "# Resonant Collinearity"
   ]
  },
  {
   "cell_type": "markdown",
   "metadata": {},
   "source": [
    "## Part 1"
   ]
  },
  {
   "cell_type": "code",
   "execution_count": 36,
   "metadata": {},
   "outputs": [],
   "source": [
    "import numpy as np"
   ]
  },
  {
   "cell_type": "code",
   "execution_count": 37,
   "metadata": {},
   "outputs": [],
   "source": [
    "with open(\"resonant_collinearity.txt\", \"r\") as f:\n",
    "\tgrid = f.read().splitlines()"
   ]
  },
  {
   "cell_type": "code",
   "execution_count": 41,
   "metadata": {},
   "outputs": [],
   "source": [
    "def check_inside(grid, position):\n",
    "\tif not (0 <= position[0] < len(grid)):\n",
    "\t\treturn False\n",
    "\tif not (0 <= position[1] < len(grid[0])):\n",
    "\t\treturn False\n",
    "\treturn True"
   ]
  },
  {
   "cell_type": "code",
   "execution_count": 42,
   "metadata": {},
   "outputs": [],
   "source": [
    "antenna_types = set()\n",
    "\n",
    "n_antinodes = 0\n",
    "position_antinodes = []\n",
    "\n",
    "for i in range(len(grid)):\n",
    "\tfor j in range(len(grid[i])):\n",
    "\t\tif grid[i][j] != \".\" and grid[i][j] not in antenna_types:\n",
    "\t\t\tcurrent_antenna = grid[i][j]\n",
    "\t\t\t# Vector a = (i, j)\n",
    "\t\t\ta = np.array([i, j])\n",
    "\n",
    "\t\t\tfor k in range(len(grid)):\n",
    "\t\t\t\tfor l in range(len(grid[k])):\n",
    "\t\t\t\t\tif grid[k][l] == current_antenna and (k, l) != (i, j):\n",
    "\t\t\t\t\t\t\n",
    "\t\t\t\t\t\t# Vector b = (k, l)\n",
    "\t\t\t\t\t\tb = np.array([k, l])\n",
    "\t\t\t\t\t\t\n",
    "\t\t\t\t\t\t# Vector c = b - a = (k-i, l-j)\n",
    "\t\t\t\t\t\t# --> a + c = b\n",
    "\t\t\t\t\t\tc = b - a\n",
    "\t\t\t\t\t\t\n",
    "\t\t\t\t\t\tcandidate1 = a - c\n",
    "\t\t\t\t\t\tcandidate2 = b + c\n",
    "\n",
    "\t\t\t\t\t\tif check_inside(grid, candidate1):\n",
    "\t\t\t\t\t\t\tn_antinodes += 1\n",
    "\t\t\t\t\t\t\tposition_antinodes.append(candidate1)\n",
    "\t\t\t\t\t\t\n",
    "\t\t\t\t\t\tif check_inside(grid, candidate2):\n",
    "\t\t\t\t\t\t\tn_antinodes += 1\n",
    "\t\t\t\t\t\t\tposition_antinodes.append(candidate2)\n",
    "\n",
    "\t\t\tantenna_types.add(grid[i][j])"
   ]
  },
  {
   "cell_type": "code",
   "execution_count": 43,
   "metadata": {},
   "outputs": [
    {
     "data": {
      "text/plain": [
       "131"
      ]
     },
     "execution_count": 43,
     "metadata": {},
     "output_type": "execute_result"
    }
   ],
   "source": [
    "n_antinodes"
   ]
  }
 ],
 "metadata": {
  "kernelspec": {
   "display_name": "Python 3",
   "language": "python",
   "name": "python3"
  },
  "language_info": {
   "codemirror_mode": {
    "name": "ipython",
    "version": 3
   },
   "file_extension": ".py",
   "mimetype": "text/x-python",
   "name": "python",
   "nbconvert_exporter": "python",
   "pygments_lexer": "ipython3",
   "version": "3.12.1"
  }
 },
 "nbformat": 4,
 "nbformat_minor": 2
}
