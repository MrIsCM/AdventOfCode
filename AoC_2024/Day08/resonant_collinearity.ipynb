{
 "cells": [
  {
   "cell_type": "markdown",
   "metadata": {},
   "source": [
    "# Resonant Collinearity"
   ]
  },
  {
   "cell_type": "markdown",
   "metadata": {},
   "source": [
    "## Part 1"
   ]
  },
  {
   "cell_type": "code",
   "execution_count": 1,
   "metadata": {},
   "outputs": [],
   "source": [
    "import numpy as np"
   ]
  },
  {
   "cell_type": "code",
   "execution_count": 2,
   "metadata": {},
   "outputs": [],
   "source": [
    "def parse_input(file_path=\"resonant_collinearity.txt\", mode=\"r\"):\t\n",
    "\twith open(file_path, mode) as f:\n",
    "\t\treturn f.read().splitlines()\n",
    "\t\n",
    "def check_inside(grid, position):\n",
    "\t#   \tX inside X-range  \t\tAND\t\t\tY inside Y-range\n",
    "\treturn (0 <= position[0] < len(grid)) and (0 <= position[1] < len(grid[0]))"
   ]
  },
  {
   "cell_type": "code",
   "execution_count": 3,
   "metadata": {},
   "outputs": [],
   "source": [
    "def get_antennas_positions(grid):\n",
    "\tantenna_positions = {}\n",
    "\n",
    "\t# Get positions by antenna type\n",
    "\tfor i, row in enumerate(grid):\n",
    "\t\tfor j, cell in enumerate(row):\n",
    "\t\t\tif cell != \".\":\n",
    "\t\t\t\tantenna_positions.setdefault(cell, []).append(np.array([i, j]))\n",
    "\t\n",
    "\treturn antenna_positions"
   ]
  },
  {
   "cell_type": "code",
   "execution_count": 4,
   "metadata": {},
   "outputs": [],
   "source": [
    "def find_antinodes(grid):\n",
    "\tantenna_positions = get_antennas_positions(grid)\n",
    "\t# I need the UNIQUE locations of the antinodes\n",
    "\tantinodes_positions = set()\n",
    "\n",
    "\tfor freq, positions in antenna_positions.items():\n",
    "\t\tnum_positions = len(positions)\n",
    "\t\tfor i in range(num_positions):\n",
    "\t\t\tfor j in range(i+1, num_positions):\n",
    "\n",
    "\t\t\t\t# Get the two position vectors\n",
    "\t\t\t\ta, b = positions[i], positions[j]\n",
    "\n",
    "\t\t\t\t# Get the vector between the two positions\n",
    "\t\t\t\tc = b - a\n",
    "\n",
    "\t\t\t\t# a + c = b\n",
    "\n",
    "\t\t\t\tcandidates = [b + c, a - c]\n",
    "\t\t\t\tfor candidate in candidates:\n",
    "\t\t\t\t\tif check_inside(grid, candidate):\n",
    "\t\t\t\t\t\tantinodes_positions.add(tuple(candidate))\n",
    "\n",
    "\n",
    "\treturn antinodes_positions"
   ]
  },
  {
   "cell_type": "code",
   "execution_count": 5,
   "metadata": {},
   "outputs": [
    {
     "data": {
      "text/plain": [
       "261"
      ]
     },
     "execution_count": 5,
     "metadata": {},
     "output_type": "execute_result"
    }
   ],
   "source": [
    "grid = parse_input()\n",
    "antinodes_positions = find_antinodes(grid)\n",
    "len(antinodes_positions)"
   ]
  },
  {
   "cell_type": "markdown",
   "metadata": {},
   "source": [
    "## Part 2"
   ]
  },
  {
   "cell_type": "code",
   "execution_count": 6,
   "metadata": {},
   "outputs": [],
   "source": [
    "def get_inline_positions(grid_dims, a, b):\n",
    "\tM, N = grid_dims\n",
    "\tinline_positions = []\n",
    "\t# Get the vector between the two positions\n",
    "\t# a + c = b\n",
    "\tc = b - a\n",
    "\n",
    "\tpos = a.copy()\n",
    "\twhile 0 <= pos[0] < M and 0 <= pos[1] < N:\n",
    "\t\tinline_positions.append(tuple(pos))\n",
    "\t\tpos -= c\n",
    "\n",
    "\tpos = b.copy()\n",
    "\twhile 0 <= pos[0] < M and 0 <= pos[1] < N:\n",
    "\t\tinline_positions.append(tuple(pos))\n",
    "\t\tpos += c\n",
    "\n",
    "\treturn inline_positions"
   ]
  },
  {
   "cell_type": "code",
   "execution_count": 7,
   "metadata": {},
   "outputs": [],
   "source": [
    "def find_antinodes_harmonics(grid):\n",
    "\tM, N = len(grid), len(grid[0])\n",
    "\tantenna_positions = get_antennas_positions(grid)\n",
    "\t# I need the UNIQUE locations of the antinodes\n",
    "\tantinodes_positions = set()\n",
    "\n",
    "\tfor freq, positions in antenna_positions.items():\n",
    "\t\tnum_positions = len(positions)\n",
    "\t\tfor i in range(num_positions):\n",
    "\t\t\tfor j in range(i+1, num_positions):\n",
    "\n",
    "\t\t\t\t# Get the two position vectors\n",
    "\t\t\t\ta, b = positions[i], positions[j]\n",
    "\n",
    "\t\t\t\t# Get inline positions\n",
    "\t\t\t\tinline_positions = get_inline_positions((M, N), a, b)\n",
    "\n",
    "\t\t\t\tantinodes_positions.update(inline_positions)\n",
    "\t\t\n",
    "\treturn antinodes_positions"
   ]
  },
  {
   "cell_type": "code",
   "execution_count": 8,
   "metadata": {},
   "outputs": [
    {
     "data": {
      "text/plain": [
       "898"
      ]
     },
     "execution_count": 8,
     "metadata": {},
     "output_type": "execute_result"
    }
   ],
   "source": [
    "grid = parse_input()\n",
    "antinodes_positions = find_antinodes_harmonics(grid)\n",
    "len(antinodes_positions)"
   ]
  }
 ],
 "metadata": {
  "kernelspec": {
   "display_name": "Python 3",
   "language": "python",
   "name": "python3"
  },
  "language_info": {
   "codemirror_mode": {
    "name": "ipython",
    "version": 3
   },
   "file_extension": ".py",
   "mimetype": "text/x-python",
   "name": "python",
   "nbconvert_exporter": "python",
   "pygments_lexer": "ipython3",
   "version": "3.12.1"
  }
 },
 "nbformat": 4,
 "nbformat_minor": 2
}
