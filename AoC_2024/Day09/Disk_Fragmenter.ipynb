{
 "cells": [
  {
   "cell_type": "markdown",
   "metadata": {},
   "source": [
    "# Disk Fragmenter"
   ]
  },
  {
   "cell_type": "code",
   "execution_count": 90,
   "metadata": {},
   "outputs": [],
   "source": [
    "from collections import Counter"
   ]
  },
  {
   "cell_type": "code",
   "execution_count": 6,
   "metadata": {},
   "outputs": [],
   "source": [
    "def parse_input(file_path=\"disk_fragmenter.txt\", mode=\"r\"):\n",
    "\twith open(file_path, mode) as file:\n",
    "\t\treturn list(map(int, file.read().strip()))"
   ]
  },
  {
   "cell_type": "code",
   "execution_count": 154,
   "metadata": {},
   "outputs": [],
   "source": [
    "def format_data(data):\n",
    "\tdisk = []\n",
    "\tfor i, value in enumerate(data):\n",
    "\t\tif i % 2 == 0:\n",
    "\t\t\tdisk.extend([i//2]*value)\n",
    "\t\telse:\n",
    "\t\t\tdisk.extend([\".\"]*value)\n",
    "\treturn disk"
   ]
  },
  {
   "cell_type": "markdown",
   "metadata": {},
   "source": [
    "## Part 1"
   ]
  },
  {
   "cell_type": "code",
   "execution_count": 178,
   "metadata": {},
   "outputs": [],
   "source": [
    "def defragment_disk(disk):\n",
    "\tdot_count = Counter(disk)[\".\"]\n",
    "\tdefrag_disk = []\n",
    "\tcounter = 0\n",
    "\tidx = len(disk) - 1\n",
    "\n",
    "\tfor value in disk:\n",
    "\t\t\n",
    "\t\tif len(defrag_disk) == len(disk)-dot_count:\n",
    "\t\t\tbreak\n",
    "\n",
    "\t\tif value != \".\":\n",
    "\t\t\tdefrag_disk.append(value)\n",
    "\n",
    "\t\telse:\n",
    "\t\t\twhile disk[idx - counter] == \".\":\n",
    "\t\t\t\tcounter += 1\n",
    "\t\t\tdefrag_disk.append(disk[idx - counter])\t\t\n",
    "\t\t\tcounter += 1\n",
    "\n",
    "\treturn defrag_disk"
   ]
  },
  {
   "cell_type": "code",
   "execution_count": 187,
   "metadata": {},
   "outputs": [],
   "source": [
    "def check_sum(defragged_disk):\n",
    "\tsuma = 0\n",
    "\tfor i, value in enumerate(defragged_disk):\n",
    "\t\tif value != \".\":\n",
    "\t\t\tsuma += i*value \n",
    "\treturn suma"
   ]
  },
  {
   "cell_type": "code",
   "execution_count": 188,
   "metadata": {},
   "outputs": [],
   "source": [
    "def part1(file_path):\n",
    "\tdata = parse_input(file_path)\n",
    "\tdisk = format_data(data)\n",
    "\tdefragged_disk= defragment_disk(disk)\n",
    "\tsuma = check_sum(defragged_disk)\n",
    "\n",
    "\treturn suma, defragged_disk"
   ]
  },
  {
   "cell_type": "code",
   "execution_count": 189,
   "metadata": {},
   "outputs": [
    {
     "data": {
      "text/plain": [
       "1928"
      ]
     },
     "execution_count": 189,
     "metadata": {},
     "output_type": "execute_result"
    }
   ],
   "source": [
    "suma, deffrag_disk = part1(file_path=\"sample.txt\")\n",
    "suma"
   ]
  },
  {
   "cell_type": "code",
   "execution_count": 190,
   "metadata": {},
   "outputs": [
    {
     "data": {
      "text/plain": [
       "6471961544878"
      ]
     },
     "execution_count": 190,
     "metadata": {},
     "output_type": "execute_result"
    }
   ],
   "source": [
    "suma, deffrag_disk = part1(file_path=\"disk_fragmenter.txt\")\n",
    "suma"
   ]
  },
  {
   "cell_type": "markdown",
   "metadata": {},
   "source": [
    "## Part 2"
   ]
  },
  {
   "cell_type": "code",
   "execution_count": 235,
   "metadata": {},
   "outputs": [],
   "source": [
    "sample = parse_input(file_path=\"sample.txt\")\n",
    "sample_data = format_data(sample)"
   ]
  },
  {
   "cell_type": "code",
   "execution_count": 252,
   "metadata": {},
   "outputs": [],
   "source": [
    "def find_block_from_right(data, value):\n",
    "\tblock_size = 0\n",
    "\titem = value\n",
    "\tfor i in range(len(data)-1, -1, -1):\n",
    "\t\tif data[i] == item:\n",
    "\t\t\tfound_idx = i\n",
    "\t\t\tblock_size += 1\n",
    "\t\t\n",
    "\treturn found_idx, block_size\n",
    "\n",
    "def find_sublist_from_left(big_list, small_list):\n",
    "\tfor i in range(len(big_list)):\n",
    "\t\tif big_list[i:i+len(small_list)] == small_list:\n",
    "\t\t\treturn i\n",
    "\t\t\n",
    "\treturn None\n",
    "\n",
    "def remove_block(data, block_idx, block_size, replace_with=\".\"):\n",
    "\tfor i in range(block_size):\n",
    "\t\tdata[block_idx+i] = replace_with\n",
    "\treturn data"
   ]
  },
  {
   "cell_type": "code",
   "execution_count": 303,
   "metadata": {},
   "outputs": [],
   "source": [
    "def find_all_empty_spaces(data, empty_char=\".\"):\n",
    "\t# empty_spaces = [] structure: [(start_idx, end_idx), ...]\n",
    "\tempty_spaces_idx = []\n",
    "\tempty_block_size = []\n",
    "\tstart_idx = None\n",
    "\tfor i, value in enumerate(data):\n",
    "\t\tif value == empty_char and start_idx is None:\n",
    "\t\t\tstart_idx = i\n",
    "\t\telif value != empty_char and start_idx is not None:\n",
    "\t\t\tempty_spaces_idx.append((start_idx, i))\n",
    "\t\t\tempty_block_size.append(i-start_idx)\n",
    "\t\t\tstart_idx = None\n",
    "\t\n",
    "\tif start_idx is not None:\n",
    "\t\tempty_spaces_idx.append((start_idx, len(data)))\n",
    "\t\tempty_block_size.append(len(data)-start_idx)\n",
    "\n",
    "\treturn empty_block_size, empty_spaces_idx"
   ]
  },
  {
   "cell_type": "code",
   "execution_count": 304,
   "metadata": {},
   "outputs": [
    {
     "data": {
      "text/plain": [
       "'00...111...2...333.44.5555.6666.777.888899'"
      ]
     },
     "execution_count": 304,
     "metadata": {},
     "output_type": "execute_result"
    }
   ],
   "source": [
    "test_data = format_data(parse_input(file_path=\"sample.txt\"))\n",
    "\"\".join(map(str, test_data))"
   ]
  },
  {
   "cell_type": "code",
   "execution_count": 309,
   "metadata": {},
   "outputs": [
    {
     "data": {
      "text/plain": [
       "[(0, (3, (2, 5))),\n",
       " (1, (3, (8, 11))),\n",
       " (2, (3, (12, 15))),\n",
       " (3, (1, (18, 19))),\n",
       " (4, (1, (21, 22))),\n",
       " (5, (1, (26, 27))),\n",
       " (6, (1, (31, 32))),\n",
       " (7, (1, (35, 36)))]"
      ]
     },
     "execution_count": 309,
     "metadata": {},
     "output_type": "execute_result"
    }
   ],
   "source": [
    "empty_block_size, empty_interval_idxs = find_all_empty_spaces(data)\n",
    "\n",
    "list(enumerate(zip(empty_block_size, empty_interval_idxs)))"
   ]
  },
  {
   "cell_type": "code",
   "execution_count": 316,
   "metadata": {},
   "outputs": [],
   "source": [
    "def defragment_by_block_improved(data):\n",
    "\tempty_block_size, empty_interval_idxs = find_all_empty_spaces(data)\n",
    "\n",
    "\tseen_values = set()\n",
    "\tfor i in range(len(data)-1, -1, -1):\n",
    "\t\tcurrent_value = data[i]\n",
    "\t\tif current_value != \".\" and current_value not in seen_values:\n",
    "\t\t\tseen_values.add(current_value)\n",
    "\t\t\tblock_idx, block_size = find_block_from_right(data, current_value)\n",
    "\t\t\tfor j, (empty_space, (start, end)) in enumerate(zip(empty_block_size, empty_interval_idxs)):\n",
    "\t\t\t\tif start > block_idx:\n",
    "\t\t\t\t\tbreak\n",
    "\t\t\t\tif empty_space >= block_size:\n",
    "\t\t\t\t\tdata = remove_block(data, block_idx, block_size)\n",
    "\t\t\t\t\tdata[start:start+block_size] = [current_value]*block_size\n",
    "\t\t\t\t\tempty_block_size[j] -= block_size\n",
    "\t\t\t\t\tempty_interval_idxs[j] = (start+block_size, end)\n",
    "\t\t\t\t\tbreak\n",
    "\n",
    "\treturn data"
   ]
  },
  {
   "cell_type": "code",
   "execution_count": 317,
   "metadata": {},
   "outputs": [
    {
     "data": {
      "text/plain": [
       "'00...111...2...333.44.5555.6666.777.888899'"
      ]
     },
     "execution_count": 317,
     "metadata": {},
     "output_type": "execute_result"
    }
   ],
   "source": [
    "test_data = format_data(parse_input(file_path=\"sample.txt\"))\n",
    "\"\".join(map(str, test_data))"
   ]
  },
  {
   "cell_type": "code",
   "execution_count": 318,
   "metadata": {},
   "outputs": [
    {
     "data": {
      "text/plain": [
       "'00992111777.44.333....5555.6666.....8888..'"
      ]
     },
     "execution_count": 318,
     "metadata": {},
     "output_type": "execute_result"
    }
   ],
   "source": [
    "\"\".join(map(str, defragment_by_block_improved(test_data)))"
   ]
  },
  {
   "cell_type": "code",
   "execution_count": 270,
   "metadata": {},
   "outputs": [],
   "source": [
    "def defragment_by_block(data):\n",
    "\tdone_values = set()\n",
    "\tfor i in range(len(data)-1, -1, -1):\n",
    "\t\tif data[i] != \".\" and data[i] not in done_values:\n",
    "\t\t\tdone_values.add(data[i])\n",
    "\t\t\tblock_idx, block_size = find_block_from_right(data, data[i])\n",
    "\t\t\tdots_idx = find_sublist_from_left(data[:block_idx], [\".\"]*block_size)\n",
    "\t\t\tif dots_idx is None:\n",
    "\t\t\t\tcontinue\n",
    "\t\t\tif dots_idx < block_idx:\n",
    "\t\t\t\tdata[dots_idx:dots_idx+block_size] = data[block_idx:block_idx+block_size]\n",
    "\t\t\t\tdata = remove_block(data, block_idx, block_size)\n",
    "\n",
    "\treturn data"
   ]
  },
  {
   "cell_type": "code",
   "execution_count": 271,
   "metadata": {},
   "outputs": [],
   "source": [
    "def part2(file_path):\n",
    "\tdata = format_data(parse_input(file_path))\n",
    "\tdata = defragment_by_block(data)\n",
    "\tsuma = check_sum(data)\n",
    "\n",
    "\treturn suma, data"
   ]
  },
  {
   "cell_type": "code",
   "execution_count": 319,
   "metadata": {},
   "outputs": [],
   "source": [
    "def part2_improved(file_path):\n",
    "\tdata = format_data(parse_input(file_path))\n",
    "\tdata = defragment_by_block_improved(data)\n",
    "\tsuma = check_sum(data)\n",
    "\n",
    "\treturn suma, data"
   ]
  },
  {
   "cell_type": "code",
   "execution_count": 272,
   "metadata": {},
   "outputs": [
    {
     "data": {
      "text/plain": [
       "6511178035564"
      ]
     },
     "execution_count": 272,
     "metadata": {},
     "output_type": "execute_result"
    }
   ],
   "source": [
    "suma, _ = part2(file_path=\"disk_fragmenter.txt\")\n",
    "suma"
   ]
  },
  {
   "cell_type": "code",
   "execution_count": 320,
   "metadata": {},
   "outputs": [
    {
     "data": {
      "text/plain": [
       "6511178035564"
      ]
     },
     "execution_count": 320,
     "metadata": {},
     "output_type": "execute_result"
    }
   ],
   "source": [
    "suma, _ = part2_improved(file_path=\"disk_fragmenter.txt\")\n",
    "suma"
   ]
  }
 ],
 "metadata": {
  "kernelspec": {
   "display_name": "Python 3",
   "language": "python",
   "name": "python3"
  },
  "language_info": {
   "codemirror_mode": {
    "name": "ipython",
    "version": 3
   },
   "file_extension": ".py",
   "mimetype": "text/x-python",
   "name": "python",
   "nbconvert_exporter": "python",
   "pygments_lexer": "ipython3",
   "version": "3.12.1"
  }
 },
 "nbformat": 4,
 "nbformat_minor": 2
}
