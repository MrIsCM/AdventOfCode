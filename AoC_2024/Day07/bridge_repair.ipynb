{
 "cells": [
  {
   "cell_type": "markdown",
   "metadata": {},
   "source": [
    "# Day 06: Bridge Repair"
   ]
  },
  {
   "cell_type": "code",
   "execution_count": 37,
   "metadata": {},
   "outputs": [],
   "source": [
    "from itertools import product"
   ]
  },
  {
   "cell_type": "markdown",
   "metadata": {},
   "source": [
    "## Part 1"
   ]
  },
  {
   "cell_type": "code",
   "execution_count": 38,
   "metadata": {},
   "outputs": [],
   "source": [
    "with open(\"bridge_repair.txt\", \"r\") as f:\n",
    "\tlines = f.read().splitlines()"
   ]
  },
  {
   "cell_type": "code",
   "execution_count": 39,
   "metadata": {},
   "outputs": [],
   "source": [
    "def parse_input(input):\n",
    "\tresults = []\n",
    "\tnums = []\n",
    "\tfor line in input:\n",
    "\t\tres, num = line.split(\":\")\n",
    "\t\tresults.append(int(res))\n",
    "\t\tnum = num.split()\n",
    "\t\tnums.append([int(n) for n in num])\n",
    "\n",
    "\treturn results, nums"
   ]
  },
  {
   "cell_type": "code",
   "execution_count": 40,
   "metadata": {},
   "outputs": [
    {
     "data": {
      "text/plain": [
       "2"
      ]
     },
     "execution_count": 40,
     "metadata": {},
     "output_type": "execute_result"
    }
   ],
   "source": [
    "len('12')"
   ]
  },
  {
   "cell_type": "code",
   "execution_count": 41,
   "metadata": {},
   "outputs": [],
   "source": [
    "# Funtion to evaluate expression from left to right\n",
    "def evaluate_left_right_expression(numbers, operators):\n",
    "\t\"\"\"\n",
    "\tnumbers: list of integers\n",
    "\toperators: list of characters (+ or *) len(operators) = len(numbers) - 1\n",
    "\t\t\t\t- One operator between each pair of numbers\n",
    "\t\"\"\"\n",
    "\tresult = numbers[0]\n",
    "\tfor i, op in enumerate(operators):\n",
    "\t\tif op == \"+\":\n",
    "\t\t\tresult += numbers[i+1]\n",
    "\t\telif op == \"*\":\n",
    "\t\t\tresult *= numbers[i+1]\n",
    "\n",
    "\t\t# Added for Part 2\n",
    "\t\telif op == \"| |\":\n",
    "\t\t\tnumb_zeros = len(str(numbers[i+1]))\n",
    "\t\t\tresult = result * 10**numb_zeros + numbers[i+1]\n",
    "\n",
    "\treturn result"
   ]
  },
  {
   "cell_type": "code",
   "execution_count": 42,
   "metadata": {},
   "outputs": [],
   "source": [
    "def solve_equation(results, numbers, operators=[\"+\", \"*\"]):\n",
    "\ttotal_result = 0\n",
    "\n",
    "\tfor result, nums in zip(results, numbers):\n",
    "\t\t# Generate all possible combinations of operators\n",
    "\t\tnum_ops = len(nums) - 1\n",
    "\t\toperators_combinations = product(operators, repeat=num_ops)\n",
    "\n",
    "\t\tfor ops in operators_combinations:\n",
    "\t\t\tif evaluate_left_right_expression(nums, ops) == result:\n",
    "\t\t\t\ttotal_result += result\n",
    "\t\t\t\tbreak\n",
    "\n",
    "\treturn total_result"
   ]
  },
  {
   "cell_type": "code",
   "execution_count": 43,
   "metadata": {},
   "outputs": [
    {
     "data": {
      "text/plain": [
       "465126289353"
      ]
     },
     "execution_count": 43,
     "metadata": {},
     "output_type": "execute_result"
    }
   ],
   "source": [
    "results, nums = parse_input(lines)\n",
    "\n",
    "solve_equation(results, nums)"
   ]
  },
  {
   "cell_type": "markdown",
   "metadata": {},
   "source": [
    "## Part 2"
   ]
  },
  {
   "cell_type": "code",
   "execution_count": 44,
   "metadata": {},
   "outputs": [
    {
     "data": {
      "text/plain": [
       "70597497486371"
      ]
     },
     "execution_count": 44,
     "metadata": {},
     "output_type": "execute_result"
    }
   ],
   "source": [
    "solve_equation(results, nums, operators=[\"+\", \"*\", \"| |\"])"
   ]
  }
 ],
 "metadata": {
  "kernelspec": {
   "display_name": "Python 3",
   "language": "python",
   "name": "python3"
  },
  "language_info": {
   "codemirror_mode": {
    "name": "ipython",
    "version": 3
   },
   "file_extension": ".py",
   "mimetype": "text/x-python",
   "name": "python",
   "nbconvert_exporter": "python",
   "pygments_lexer": "ipython3",
   "version": "3.12.1"
  }
 },
 "nbformat": 4,
 "nbformat_minor": 2
}
