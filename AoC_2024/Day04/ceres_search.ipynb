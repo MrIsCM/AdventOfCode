{
 "cells": [
  {
   "cell_type": "markdown",
   "metadata": {},
   "source": [
    "# Ceres Search\n",
    "\n",
    "## Part 1"
   ]
  },
  {
   "cell_type": "code",
   "execution_count": 67,
   "metadata": {},
   "outputs": [],
   "source": [
    "def count_ocurrences(grid, word):\n",
    "\n",
    "\trows = len(grid)\n",
    "\tcols = len(grid[0])\n",
    "\tword_len = len(word)\n",
    "\t\n",
    "\tdirections = [(1, 0), (0, 1), (-1, 0), (0, -1), (1, 1), (1, -1), (-1, 1), (-1, -1)]\n",
    "\t\n",
    "\tcount = 0\n",
    "\n",
    "\tdef check_direction(x, y, dx, dy):\n",
    "\t\tfor i in range(word_len):\n",
    "\t\t\tnew_x = x + i * dx\n",
    "\t\t\tnew_y = y + i * dy\n",
    "\t\t\t\n",
    "\t\t\tif not (0 <= new_x < rows and 0 <= new_y < cols) or grid[new_x][new_y] != word[i]:\n",
    "\t\t\t\treturn False\n",
    "\t\t\t\n",
    "\t\treturn True\n",
    "\t\n",
    "\tfor i in range(rows):\n",
    "\t\tfor j in range(cols):\n",
    "\t\t\tfor dx, dy in directions:\n",
    "\t\t\t\tif check_direction(i, j, dx, dy):\n",
    "\t\t\t\t\tcount += 1\n",
    "\n",
    "\treturn count"
   ]
  },
  {
   "cell_type": "code",
   "execution_count": 70,
   "metadata": {},
   "outputs": [],
   "source": [
    "with open(\"ceres_search.txt\", \"r\") as f:\n",
    "\tgrid = [list(line.strip()) for line in f]"
   ]
  },
  {
   "cell_type": "code",
   "execution_count": 71,
   "metadata": {},
   "outputs": [
    {
     "name": "stdout",
     "output_type": "stream",
     "text": [
      "2462\n"
     ]
    }
   ],
   "source": [
    "word = \"XMAS\"\n",
    "print(count_ocurrences(grid, word))"
   ]
  }
 ],
 "metadata": {
  "kernelspec": {
   "display_name": "Python 3",
   "language": "python",
   "name": "python3"
  },
  "language_info": {
   "codemirror_mode": {
    "name": "ipython",
    "version": 3
   },
   "file_extension": ".py",
   "mimetype": "text/x-python",
   "name": "python",
   "nbconvert_exporter": "python",
   "pygments_lexer": "ipython3",
   "version": "3.12.1"
  }
 },
 "nbformat": 4,
 "nbformat_minor": 2
}
