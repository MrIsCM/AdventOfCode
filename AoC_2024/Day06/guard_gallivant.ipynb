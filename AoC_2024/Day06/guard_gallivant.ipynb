{
 "cells": [
  {
   "cell_type": "markdown",
   "metadata": {},
   "source": [
    "# Day 06: Guard Gallivant"
   ]
  },
  {
   "cell_type": "markdown",
   "metadata": {},
   "source": [
    "## Part 1"
   ]
  },
  {
   "cell_type": "code",
   "execution_count": 1,
   "metadata": {},
   "outputs": [],
   "source": [
    "with open(\"guard_gallivant.txt\", \"r\") as f:\n",
    "\tdata = f.read().splitlines()"
   ]
  },
  {
   "cell_type": "code",
   "execution_count": 20,
   "metadata": {},
   "outputs": [],
   "source": [
    "def find_start(data):\n",
    "\tfor i in range(len(data)):\n",
    "\t\tfor j in range(len(data[i])):\n",
    "\t\t\tif data[i][j] != \".\" and data[i][j] != \"#\":\n",
    "\t\t\t\treturn [i, j]\n",
    "\t\t\t\n",
    "def find_initial_direction(data, start):\n",
    "\tif data[start[0]][start[1]] == \"^\":\n",
    "\t\treturn [-1, 0]\n",
    "\telif data[start[0]][start[1]] == \"v\":\n",
    "\t\treturn [1, 0]\n",
    "\telif data[start[0]][start[1]] == \"<\":\n",
    "\t\treturn [0, -1]\n",
    "\telif data[start[0]][start[1]] == \">\":\n",
    "\t\treturn [0, 1]\n",
    "\n",
    "def turn_right(vx, vy):\n",
    "\treturn [vy, -vx]"
   ]
  },
  {
   "cell_type": "code",
   "execution_count": 60,
   "metadata": {},
   "outputs": [],
   "source": [
    "def find_path(data):\n",
    "\n",
    "\tx, y  = find_start(data)\n",
    "\tvx, vy = find_initial_direction(data, start=(x,y))\n",
    "\n",
    "\tseen_positions = set()\n",
    "\tseen_positions.add((x, y))\n",
    "\n",
    "\t# Main loop\n",
    "\twhile True:\n",
    "\t\tx += vx\n",
    "\t\ty += vy\n",
    "\n",
    "\t\tif x < 0 or x >= len(data) or y < 0 or y >= len(data[0]):\n",
    "\t\t\treturn len(seen_positions), seen_positions\n",
    "\n",
    "\t\tif data[x][y] == \"#\":\n",
    "\t\t\tx -= vx\n",
    "\t\t\ty -= vy\n",
    "\t\t\tvx, vy = turn_right(vx, vy)\n",
    "\n",
    "\t\tseen_positions.add((x, y))"
   ]
  },
  {
   "cell_type": "code",
   "execution_count": 61,
   "metadata": {},
   "outputs": [
    {
     "data": {
      "text/plain": [
       "4903"
      ]
     },
     "execution_count": 61,
     "metadata": {},
     "output_type": "execute_result"
    }
   ],
   "source": [
    "n_steps, seen_positions = find_path(data)\n",
    "n_steps"
   ]
  }
 ],
 "metadata": {
  "kernelspec": {
   "display_name": "Python 3",
   "language": "python",
   "name": "python3"
  },
  "language_info": {
   "codemirror_mode": {
    "name": "ipython",
    "version": 3
   },
   "file_extension": ".py",
   "mimetype": "text/x-python",
   "name": "python",
   "nbconvert_exporter": "python",
   "pygments_lexer": "ipython3",
   "version": "3.12.1"
  }
 },
 "nbformat": 4,
 "nbformat_minor": 2
}
