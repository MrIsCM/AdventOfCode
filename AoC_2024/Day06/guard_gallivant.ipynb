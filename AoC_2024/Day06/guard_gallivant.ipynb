{
 "cells": [
  {
   "cell_type": "markdown",
   "metadata": {},
   "source": [
    "# Day 06: Guard Gallivant"
   ]
  },
  {
   "cell_type": "markdown",
   "metadata": {},
   "source": [
    "## Part 1"
   ]
  },
  {
   "cell_type": "code",
   "execution_count": 121,
   "metadata": {},
   "outputs": [],
   "source": [
    "with open(\"guard_gallivant.txt\", \"r\") as f:\n",
    "\tdata = f.read().splitlines()\n",
    "\n",
    "original = data.copy()"
   ]
  },
  {
   "cell_type": "code",
   "execution_count": 122,
   "metadata": {},
   "outputs": [],
   "source": [
    "def find_start(data):\n",
    "\tfor i in range(len(data)):\n",
    "\t\tfor j in range(len(data[i])):\n",
    "\t\t\tif data[i][j] != \".\" and data[i][j] != \"#\":\n",
    "\t\t\t\treturn [i, j]\n",
    "\t\t\t\n",
    "def find_initial_direction(data, start):\n",
    "\tif data[start[0]][start[1]] == \"^\":\n",
    "\t\treturn [-1, 0]\n",
    "\telif data[start[0]][start[1]] == \"v\":\n",
    "\t\treturn [1, 0]\n",
    "\telif data[start[0]][start[1]] == \"<\":\n",
    "\t\treturn [0, -1]\n",
    "\telif data[start[0]][start[1]] == \">\":\n",
    "\t\treturn [0, 1]\n",
    "\telse:\n",
    "\t\tprint(\"Invalid start\")\n",
    "\t\tprint(data[start[0]][start[1]])\n",
    "\t\tprint(start)\n",
    "\t\treturn None\n",
    "\n",
    "def turn_right(vx, vy):\n",
    "\treturn [vy, -vx]"
   ]
  },
  {
   "cell_type": "code",
   "execution_count": 123,
   "metadata": {},
   "outputs": [],
   "source": [
    "def find_path(data):\n",
    "\n",
    "\tx, y  = find_start(data)\n",
    "\tvx, vy = find_initial_direction(data, start=(x,y))\n",
    "\n",
    "\tseen_positions = set()\n",
    "\tseen_positions.add((x, y))\n",
    "\n",
    "\t# Main loop\n",
    "\twhile True:\n",
    "\t\tx += vx\n",
    "\t\ty += vy\n",
    "\n",
    "\t\tif x < 0 or x >= len(data) or y < 0 or y >= len(data[0]):\n",
    "\t\t\treturn len(seen_positions), seen_positions\n",
    "\n",
    "\t\tif data[x][y] == \"#\":\n",
    "\t\t\tx -= vx\n",
    "\t\t\ty -= vy\n",
    "\t\t\tvx, vy = turn_right(vx, vy)\n",
    "\n",
    "\t\tseen_positions.add((x, y))"
   ]
  },
  {
   "cell_type": "code",
   "execution_count": 124,
   "metadata": {},
   "outputs": [
    {
     "data": {
      "text/plain": [
       "4903"
      ]
     },
     "execution_count": 124,
     "metadata": {},
     "output_type": "execute_result"
    }
   ],
   "source": [
    "n_steps, seen_positions = find_path(data)\n",
    "n_steps"
   ]
  },
  {
   "cell_type": "markdown",
   "metadata": {},
   "source": [
    "## Part 2"
   ]
  },
  {
   "cell_type": "code",
   "execution_count": 115,
   "metadata": {},
   "outputs": [],
   "source": [
    "with open(\"guard_gallivant.txt\", \"r\") as f:\n",
    "\tdata = f.read().splitlines()"
   ]
  },
  {
   "cell_type": "code",
   "execution_count": 116,
   "metadata": {},
   "outputs": [],
   "source": [
    "def get_direction_text(vx, vy):\n",
    "\tif vx == 0 and vy == 1:\n",
    "\t\treturn \"right\"\n",
    "\telif vx == 0 and vy == -1:\n",
    "\t\treturn \"left\"\n",
    "\telif vx == 1 and vy == 0:\n",
    "\t\treturn \"down\"\n",
    "\telif vx == -1 and vy == 0:\n",
    "\t\treturn \"up\""
   ]
  },
  {
   "cell_type": "code",
   "execution_count": 119,
   "metadata": {},
   "outputs": [],
   "source": [
    "def find_path_check_loops(data, starting_point):\n",
    "\n",
    "\tx, y  = starting_point\n",
    "\tvx, vy = find_initial_direction(data, start=starting_point)\n",
    "\n",
    "\ttext_dir = get_direction_text(vx, vy)\n",
    "\n",
    "\tseen_positions = set()\n",
    "\tseen_positions.add((x, y, text_dir))\n",
    "\n",
    "\t# Main loop\n",
    "\twhile True:\n",
    "\t\tx += vx\n",
    "\t\ty += vy\n",
    "\n",
    "\t\t# This should never happen\n",
    "\t\tif x < 0 or x >= len(data) or y < 0 or y >= len(data[0]):\n",
    "\t\t\treturn len(seen_positions), seen_positions, \"out of bounds\"\n",
    "\n",
    "\t\tif data[x][y] == \"#\" or data[x][y] == \"O\":\n",
    "\t\t\tx -= vx\n",
    "\t\t\ty -= vy\n",
    "\t\t\tvx, vy = turn_right(vx, vy)\n",
    "\t\t\ttext_dir = get_direction_text(vx, vy)\n",
    "\n",
    "\t\tif (x, y, text_dir) in seen_positions:\n",
    "\t\t\treturn len(seen_positions), seen_positions, \"loop\"\n",
    "\n",
    "\t\tseen_positions.add((x, y, text_dir))"
   ]
  },
  {
   "cell_type": "code",
   "execution_count": 130,
   "metadata": {},
   "outputs": [],
   "source": [
    "def find_all_loops(data):\n",
    "\tstart_pos = find_start(data)\n",
    "\tn_loops = 0\n",
    "\tloop_positions = []\n",
    "\tpaths = []\n",
    "\n",
    "\tn_steps, seen_positions = find_path(data)\n",
    "\n",
    "\tfor position in seen_positions:\n",
    "\t\ti, j = position\n",
    "\n",
    "\t\tif data[i][j] != \".\":\n",
    "\t\t\tcontinue\n",
    "\n",
    "\t\tdata[i][j] = \"O\"\n",
    "\n",
    "\t\tcurrent_n_steps, current_seen_positions, status = find_path_check_loops(data, start_pos)\n",
    "\n",
    "\t\tif status == \"loop\":\n",
    "\t\t\tn_loops += 1\n",
    "\t\t\tloop_positions.append([i, j])\n",
    "\t\t\tpaths.append(current_seen_positions)\n",
    "\t\t\n",
    "\t\tdata[i][j] = \".\"\n",
    "\n",
    "\treturn n_loops, loop_positions, paths\n"
   ]
  },
  {
   "cell_type": "code",
   "execution_count": 132,
   "metadata": {},
   "outputs": [],
   "source": [
    "grid = [list(row) for row in data]\n",
    "n_loops, loop_positions, paths = find_all_loops(grid)"
   ]
  },
  {
   "cell_type": "code",
   "execution_count": 133,
   "metadata": {},
   "outputs": [
    {
     "data": {
      "text/plain": [
       "1911"
      ]
     },
     "execution_count": 133,
     "metadata": {},
     "output_type": "execute_result"
    }
   ],
   "source": [
    "n_loops"
   ]
  }
 ],
 "metadata": {
  "kernelspec": {
   "display_name": "Python 3",
   "language": "python",
   "name": "python3"
  },
  "language_info": {
   "codemirror_mode": {
    "name": "ipython",
    "version": 3
   },
   "file_extension": ".py",
   "mimetype": "text/x-python",
   "name": "python",
   "nbconvert_exporter": "python",
   "pygments_lexer": "ipython3",
   "version": "3.12.1"
  }
 },
 "nbformat": 4,
 "nbformat_minor": 2
}
