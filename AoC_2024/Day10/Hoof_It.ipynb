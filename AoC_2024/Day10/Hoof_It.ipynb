{
 "cells": [
  {
   "cell_type": "markdown",
   "metadata": {},
   "source": [
    "# Hoof It"
   ]
  },
  {
   "cell_type": "markdown",
   "metadata": {},
   "source": [
    "## Part 1"
   ]
  },
  {
   "cell_type": "code",
   "execution_count": 64,
   "metadata": {},
   "outputs": [],
   "source": [
    "def parse_input(sample=False, sample_path= \"sample.txt\", file_path=\"Hoof_It.txt\"):\n",
    "\tfile_path = sample_path if sample else file_path\n",
    "\twith open(file_path) as f:\n",
    "\t\tlines = f.read().splitlines()\n",
    "\treturn [list(map(int, line)) for line in lines]"
   ]
  },
  {
   "cell_type": "code",
   "execution_count": 65,
   "metadata": {},
   "outputs": [],
   "source": [
    "def extract_trailheads(mapa, char_init = 0):\n",
    "\ttrailheads = []\n",
    "\tfor i in range(len(mapa)):\n",
    "\t\tfor j in range(len(mapa[0])):\n",
    "\t\t\tif mapa[i][j] == char_init:\n",
    "\t\t\t\ttrailheads.append((i, j))\n",
    "\treturn trailheads"
   ]
  },
  {
   "cell_type": "code",
   "execution_count": 66,
   "metadata": {},
   "outputs": [],
   "source": [
    "def is_inbounds(i, j, map_dims):\n",
    "\tM, N = map_dims\n",
    "\treturn 0 <= i < M and 0 <= j < N\n",
    "\n",
    "def valid_height_diff(mapa, prev_x, prev_y, new_x, new_y):\n",
    "\treturn mapa[new_x][new_y] - mapa[prev_x][prev_y] == 1\n",
    "\n",
    "def is_valid(mapa, prev_x, prev_y, new_x, new_y, visited):\n",
    "\tM, N = len(mapa), len(mapa[0])\n",
    "\tif not is_inbounds(new_x, new_y, (M, N)):\n",
    "\t\treturn False\n",
    "\t\n",
    "\tnot_visited = (new_x, new_y) not in visited\n",
    "\tvalid_height = valid_height_diff(mapa, prev_x, prev_y, new_x, new_y)\n",
    "\n",
    "\treturn not_visited and valid_height"
   ]
  },
  {
   "cell_type": "code",
   "execution_count": 67,
   "metadata": {},
   "outputs": [],
   "source": [
    "def dfs_all_paths(mapa, start, end, visited=None, path=None, all_paths=None):\n",
    "\n",
    "    directions = [(1, 0), (-1, 0), (0, 1), (0, -1)]\n",
    "    \n",
    "    if visited is None:\n",
    "        visited = set()\n",
    "    if path is None:\n",
    "        path = []\n",
    "    if all_paths is None:\n",
    "        all_paths = []\n",
    "\n",
    "    visited.add(start)\n",
    "    path.append(start)\n",
    "    \n",
    "    x, y = start\n",
    "\n",
    "    # If we reach a height of \"end\", add the path to the collection\n",
    "    if mapa[x][y] == end:\n",
    "        all_paths.append(path[:])\t\t# path[:] creates a copy of the path\t\n",
    "    else:\n",
    "        # Check every direction\n",
    "        for dx, dy in directions:\n",
    "            new_x, new_y = x + dx, y + dy\n",
    "            if is_valid(mapa, x, y, new_x, new_y, visited):\n",
    "                dfs_all_paths(mapa, (new_x, new_y), end, visited, path, all_paths)\n",
    "\n",
    "    # Backtrack\n",
    "    visited.remove(start)\n",
    "    path.pop()\n",
    "\n",
    "    return all_paths"
   ]
  },
  {
   "cell_type": "code",
   "execution_count": 68,
   "metadata": {},
   "outputs": [],
   "source": [
    "def part1(sample=True):\n",
    "\tmapa = parse_input(sample=sample)\n",
    "\ttrailheads = extract_trailheads(mapa)\n",
    "\tall_trailhead_scores = []\n",
    "\n",
    "\tfor trailhead in trailheads:\n",
    "\t\tpaths = dfs_all_paths(mapa, start=trailhead, end=9)\n",
    "\t\tscore = len({path[-1] for path in paths})\n",
    "\t\tall_trailhead_scores.append(score)\n",
    "\n",
    "\ttotal_score = sum(all_trailhead_scores)\n",
    "\tprint(total_score)"
   ]
  },
  {
   "cell_type": "code",
   "execution_count": 77,
   "metadata": {},
   "outputs": [
    {
     "name": "stdout",
     "output_type": "stream",
     "text": [
      "36\n",
      "496\n"
     ]
    }
   ],
   "source": [
    "part1(sample=True)\n",
    "part1(sample=False)"
   ]
  },
  {
   "cell_type": "markdown",
   "metadata": {},
   "source": [
    "## Part 2"
   ]
  },
  {
   "cell_type": "code",
   "execution_count": 75,
   "metadata": {},
   "outputs": [],
   "source": [
    "def part2(sample=True):\t\n",
    "\tmapa = parse_input(sample=sample)\n",
    "\ttrailheads = extract_trailheads(mapa)\n",
    "\tnumber_of_paths = []\n",
    "\n",
    "\tfor trailhead in trailheads:\n",
    "\t\tpaths = dfs_all_paths(mapa, start=trailhead, end=9)\n",
    "\t\tnumber_of_paths.append(len(paths))\n",
    "\n",
    "\ttotal_num_paths = sum(number_of_paths)\n",
    "\tprint(total_num_paths)"
   ]
  },
  {
   "cell_type": "code",
   "execution_count": 78,
   "metadata": {},
   "outputs": [
    {
     "name": "stdout",
     "output_type": "stream",
     "text": [
      "81\n",
      "1120\n"
     ]
    }
   ],
   "source": [
    "part2(sample=True)\n",
    "part2(sample=False)"
   ]
  }
 ],
 "metadata": {
  "kernelspec": {
   "display_name": "Python 3",
   "language": "python",
   "name": "python3"
  },
  "language_info": {
   "codemirror_mode": {
    "name": "ipython",
    "version": 3
   },
   "file_extension": ".py",
   "mimetype": "text/x-python",
   "name": "python",
   "nbconvert_exporter": "python",
   "pygments_lexer": "ipython3",
   "version": "3.12.1"
  }
 },
 "nbformat": 4,
 "nbformat_minor": 2
}
