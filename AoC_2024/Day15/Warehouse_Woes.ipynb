{
 "cells": [
  {
   "cell_type": "markdown",
   "metadata": {},
   "source": [
    "# Warehouse Woes"
   ]
  },
  {
   "cell_type": "markdown",
   "metadata": {},
   "source": [
    "## Part 1"
   ]
  },
  {
   "cell_type": "code",
   "execution_count": 127,
   "metadata": {},
   "outputs": [],
   "source": [
    "def parse_input(sample=None):\n",
    "\n",
    "\tdef read_input(sample=sample, file_path=\"Warehouse_Woes.txt\", mode=\"r\"):\n",
    "\t\tif sample is not None:\n",
    "\t\t\tfile_path = f\"sample{sample}.txt\"\n",
    "\n",
    "\t\twith open(file_path, mode) as file:\n",
    "\t\t\treturn file.read()\n",
    "\n",
    "\tdata = read_input(sample)\n",
    "\n",
    "\tdata = data.split(\"\\n\\n\")\n",
    "\n",
    "\tgrid = [list(row) for row in data[0].split(\"\\n\")]\n",
    "\n",
    "\tinstructions = \"\".join( row for row in data[1].split(\"\\n\"))\n",
    "\n",
    "\treturn grid, instructions"
   ]
  },
  {
   "cell_type": "code",
   "execution_count": 128,
   "metadata": {},
   "outputs": [],
   "source": [
    "def find_start(grid, start_symbol=\"@\"):\n",
    "\tfor i, row in enumerate(grid):\n",
    "\t\tfor j, cell in enumerate(row):\n",
    "\t\t\tif cell == start_symbol:\n",
    "\t\t\t\treturn i, j\n",
    "\t\t\t\n",
    "\treturn \"Not Found\""
   ]
  },
  {
   "cell_type": "code",
   "execution_count": 129,
   "metadata": {},
   "outputs": [],
   "source": [
    "def print_grid(grid):\n",
    "\tfor row in grid:\n",
    "\t\tprint(\"\".join(row))"
   ]
  },
  {
   "cell_type": "code",
   "execution_count": 130,
   "metadata": {},
   "outputs": [],
   "source": [
    "def gps_score(grid, x_mult=100, y_mult=1):\n",
    "\tscore = 0\n",
    "\tfor i, row in enumerate(grid):\n",
    "\t\tfor j, cell in enumerate(row):\n",
    "\t\t\tif cell == \"O\":\n",
    "\t\t\t\tscore += i * x_mult + j * y_mult\n",
    "\n",
    "\treturn score"
   ]
  },
  {
   "cell_type": "code",
   "execution_count": 131,
   "metadata": {},
   "outputs": [],
   "source": [
    "def push_boxes(grid, position, direction):\n",
    "\tx, y = position\n",
    "\tdx, dy = direction\n",
    "\n",
    "\tM, N = len(grid), len(grid[0])\n",
    "\n",
    "\ti = 0\n",
    "\twhile True:\n",
    "\t\ti += 1\n",
    "\t\tnx, ny = x+i*dx, y+i*dy\n",
    "\n",
    "\t\t# If we reach a wall, do nothing, no movement\n",
    "\t\tif grid[nx][ny] == \"#\":\n",
    "\t\t\treturn x, y\n",
    "\t\t\n",
    "\t\t# If we reach a free space:\n",
    "\t\t# \tMove box to the free space\n",
    "\t\t# \tMove robot to next position in the direction of movement\n",
    "\t\telif grid[nx][ny] == \".\":\n",
    "\t\t\t# Move box to the free spot\n",
    "\t\t\tgrid[nx][ny] = \"O\"\n",
    "\t\t\t# Move robot to the first box position\n",
    "\t\t\tgrid[x+dx][y+dy] = \"@\"\n",
    "\t\t\t# Remove the robot from previous position\n",
    "\t\t\tgrid[x][y] = \".\"\n",
    "\t\t\t# Update the position of the robot\n",
    "\t\t\tx, y = x+dx, y+dy\n",
    "\t\t\treturn x, y\n",
    "\n",
    "\t\t# Else, we reached a box. Do nothing, keep looking ahead \n",
    "\t\t# for a free space or a wall\n",
    "\t\telif grid[nx][ny] == \"O\":\n",
    "\t\t\tcontinue \n",
    "\n",
    "\t\telse:\n",
    "\t\t\tprint(\"Error: Invalid cell\")"
   ]
  },
  {
   "cell_type": "code",
   "execution_count": 132,
   "metadata": {},
   "outputs": [],
   "source": [
    "def simulate_movement(grid, instructions, start_pos, verbose=False):\n",
    "\tx, y = start_pos\n",
    "\t# directions = [(0, 1), (1, 0), (0, -1), (-1, 0)]\n",
    "\tdirections_dict = {\n",
    "\t\">\": (0, 1),\n",
    "\t\"v\": (1, 0),\n",
    "\t\"<\": (0, -1),\n",
    "\t\"^\": (-1, 0)\n",
    "}\n",
    "\t\n",
    "\tfor instruction in instructions:\n",
    "\t\tdx, dy = directions_dict[instruction]\n",
    "\t\t\n",
    "\t\tif verbose:\n",
    "\t\t\tprint(f\"Robot at {x}, {y} moving {instruction}\")\n",
    "\n",
    "\t\tif grid[x + dx][y + dy] == \"#\":\n",
    "\t\t\tpass\n",
    "\t\telif grid[x + dx][y + dy] == \".\":\n",
    "\t\t\tgrid[x + dx][y + dy] = \"@\"\n",
    "\t\t\tgrid[x][y] = \".\"\n",
    "\t\t\tx += dx\n",
    "\t\t\ty += dy\n",
    "\t\telse:\n",
    "\t\t\tx, y = push_boxes(grid, (x, y), (dx, dy))\n",
    "\n",
    "\t\tif verbose:\n",
    "\t\t\tprint_grid(grid)\n",
    "\t\t\tprint()\n",
    "\n",
    "\n",
    "\tscore = gps_score(grid)\n",
    "\n",
    "\treturn grid, score"
   ]
  },
  {
   "cell_type": "code",
   "execution_count": 133,
   "metadata": {},
   "outputs": [],
   "source": [
    "def part1(sample=None, verbose=False):\n",
    "\tgrid, instructions = parse_input(sample)\n",
    "\tstart_pos = find_start(grid)\n",
    "\tgrid, score = simulate_movement(grid, instructions, start_pos, verbose)\n",
    "\n",
    "\treturn score"
   ]
  },
  {
   "cell_type": "code",
   "execution_count": 134,
   "metadata": {},
   "outputs": [
    {
     "name": "stdout",
     "output_type": "stream",
     "text": [
      "Small sample: 2028\n",
      "Large sample: 10092\n",
      "\n",
      "Solution: 1421727\n"
     ]
    }
   ],
   "source": [
    "print(f\"Small sample: {part1(sample=2)}\")\n",
    "print(f\"Large sample: {part1(sample=1)}\")\n",
    "print(f\"\\nSolution: {part1()}\")"
   ]
  },
  {
   "cell_type": "markdown",
   "metadata": {},
   "source": [
    "## Part 2"
   ]
  }
 ],
 "metadata": {
  "kernelspec": {
   "display_name": "Python 3",
   "language": "python",
   "name": "python3"
  },
  "language_info": {
   "codemirror_mode": {
    "name": "ipython",
    "version": 3
   },
   "file_extension": ".py",
   "mimetype": "text/x-python",
   "name": "python",
   "nbconvert_exporter": "python",
   "pygments_lexer": "ipython3",
   "version": "3.12.1"
  }
 },
 "nbformat": 4,
 "nbformat_minor": 2
}
