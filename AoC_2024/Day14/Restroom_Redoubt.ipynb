{
 "cells": [
  {
   "cell_type": "markdown",
   "metadata": {},
   "source": [
    "# Restroom Redoubt"
   ]
  },
  {
   "cell_type": "code",
   "execution_count": 4,
   "metadata": {},
   "outputs": [],
   "source": [
    "import re"
   ]
  },
  {
   "cell_type": "markdown",
   "metadata": {},
   "source": [
    "## Part 1"
   ]
  },
  {
   "cell_type": "code",
   "execution_count": 1,
   "metadata": {},
   "outputs": [],
   "source": [
    "def parse_input(sample=True, file_path=\"Restroom_Redoubt.txt\", mode=\"r\"):\n",
    "\tif sample:\n",
    "\t\tfile_path = \"sample.txt\"\n",
    "\t\n",
    "\twith open(file_path, mode) as file:\n",
    "\t\tdata = file.read().splitlines()\n",
    "\n",
    "\treturn data"
   ]
  },
  {
   "cell_type": "code",
   "execution_count": 10,
   "metadata": {},
   "outputs": [
    {
     "data": {
      "text/plain": [
       "['p=0,4 v=3,-3',\n",
       " 'p=6,3 v=-1,-3',\n",
       " 'p=10,3 v=-1,2',\n",
       " 'p=2,0 v=2,-1',\n",
       " 'p=0,0 v=1,3',\n",
       " 'p=3,0 v=-2,-2',\n",
       " 'p=7,6 v=-1,-3',\n",
       " 'p=3,0 v=-1,-2',\n",
       " 'p=9,3 v=2,3',\n",
       " 'p=7,3 v=-1,2',\n",
       " 'p=2,4 v=2,-3',\n",
       " 'p=9,5 v=-3,-3']"
      ]
     },
     "execution_count": 10,
     "metadata": {},
     "output_type": "execute_result"
    }
   ],
   "source": [
    "parse_input()"
   ]
  },
  {
   "cell_type": "code",
   "execution_count": 13,
   "metadata": {},
   "outputs": [],
   "source": [
    "def extract_pos_vel(data):\n",
    "\trobots = []\n",
    "\tpattern = (\n",
    "\t\tr\"p=(-?\\d+),(-?\\d+) v=(-?\\d+),(-?\\d+)\"\n",
    "\t)\n",
    "\tfor line in data:\n",
    "\t\tcurrent_bot = []\n",
    "\t\tmatch = re.match(pattern, line)\n",
    "\t\tif match:\n",
    "\t\t\tcurrent_bot.append([int(x) for x in match.groups()])\n",
    "\n",
    "\t\trobots.append(current_bot)\n",
    "\n",
    "\treturn robots"
   ]
  },
  {
   "cell_type": "code",
   "execution_count": null,
   "metadata": {},
   "outputs": [],
   "source": [
    "def simulate_movement(robots, seconds=100, tiles_dim=(11, 7)):\n",
    "\tpass"
   ]
  }
 ],
 "metadata": {
  "kernelspec": {
   "display_name": "Python 3",
   "language": "python",
   "name": "python3"
  },
  "language_info": {
   "codemirror_mode": {
    "name": "ipython",
    "version": 3
   },
   "file_extension": ".py",
   "mimetype": "text/x-python",
   "name": "python",
   "nbconvert_exporter": "python",
   "pygments_lexer": "ipython3",
   "version": "3.12.1"
  }
 },
 "nbformat": 4,
 "nbformat_minor": 2
}
