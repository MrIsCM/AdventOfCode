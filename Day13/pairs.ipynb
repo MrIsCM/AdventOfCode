{
 "cells": [
  {
   "cell_type": "code",
   "execution_count": 65,
   "metadata": {},
   "outputs": [],
   "source": [
    "from collections import deque"
   ]
  },
  {
   "cell_type": "code",
   "execution_count": 61,
   "metadata": {},
   "outputs": [],
   "source": [
    "with open('test.txt', 'r') as f:\n",
    "\ttest = f.read()\n",
    "\n",
    "with open('in.txt', 'r') as f:\n",
    "\tdata = f.read()"
   ]
  },
  {
   "cell_type": "code",
   "execution_count": 62,
   "metadata": {},
   "outputs": [],
   "source": [
    "def parse(data):\n",
    "\tparsed = deque()\n",
    "\tdata_sep = [d.split('\\n') for d in data.split('\\n\\n')]\n",
    "\tfor line in data_sep:\n",
    "\t\tfor elment in line:\n",
    "\t\t\tif elment[0] == '[':\n",
    "\t\t\t\tparsed.append([elment[1:-1]])\n",
    "\t\t\telse:\n",
    "\t\t\t\tprint(elment[0])\n",
    "\treturn parsed"
   ]
  },
  {
   "cell_type": "code",
   "execution_count": 63,
   "metadata": {},
   "outputs": [
    {
     "data": {
      "text/plain": [
       "[['1,1,3,1,1'],\n",
       " ['1,1,5,1,1'],\n",
       " ['[1],[2,3,4]'],\n",
       " ['[1],4'],\n",
       " ['9'],\n",
       " ['[8,7,6]'],\n",
       " ['[4,4],4,4'],\n",
       " ['[4,4],4,4,4'],\n",
       " ['7,7,7,7'],\n",
       " ['7,7,7'],\n",
       " [''],\n",
       " ['3'],\n",
       " ['[[]]'],\n",
       " ['[]'],\n",
       " ['1,[2,[3,[4,[5,6,7]]]],8,9'],\n",
       " ['1,[2,[3,[4,[5,6,0]]]],8,9']]"
      ]
     },
     "execution_count": 63,
     "metadata": {},
     "output_type": "execute_result"
    }
   ],
   "source": [
    "parse(test)"
   ]
  },
  {
   "cell_type": "code",
   "execution_count": 64,
   "metadata": {},
   "outputs": [
    {
     "data": {
      "text/plain": [
       "'[1,1,3,1,1]\\n[1,1,5,1,1]\\n\\n[[1],[2,3,4]]\\n[[1],4]\\n\\n[9]\\n[[8,7,6]]\\n\\n[[4,4],4,4]\\n[[4,4],4,4,4]\\n\\n[7,7,7,7]\\n[7,7,7]\\n\\n[]\\n[3]\\n\\n[[[]]]\\n[[]]\\n\\n[1,[2,[3,[4,[5,6,7]]]],8,9]\\n[1,[2,[3,[4,[5,6,0]]]],8,9]'"
      ]
     },
     "execution_count": 64,
     "metadata": {},
     "output_type": "execute_result"
    }
   ],
   "source": [
    "test"
   ]
  }
 ],
 "metadata": {
  "kernelspec": {
   "display_name": "Python 3",
   "language": "python",
   "name": "python3"
  },
  "language_info": {
   "codemirror_mode": {
    "name": "ipython",
    "version": 3
   },
   "file_extension": ".py",
   "mimetype": "text/x-python",
   "name": "python",
   "nbconvert_exporter": "python",
   "pygments_lexer": "ipython3",
   "version": "3.11.0"
  },
  "orig_nbformat": 4,
  "vscode": {
   "interpreter": {
    "hash": "8bb183d6f65149bde25a8207ad2fb4989b2757aac3d3ec63796cdeb74924c51a"
   }
  }
 },
 "nbformat": 4,
 "nbformat_minor": 2
}
