{
 "cells": [
  {
   "attachments": {},
   "cell_type": "markdown",
   "metadata": {},
   "source": [
    "# --- Day 10: Cathode-Ray Tube ---\n",
    "\n",
    "You avoid the ropes, plunge into the river, and swim to shore.\n",
    "\n",
    "The Elves yell something about meeting back up with them upriver, but the river is too loud to tell exactly what they're saying. They finish crossing the bridge and disappear from view.\n",
    "\n",
    "Situations like this must be why the Elves prioritized getting the communication system on your handheld device working. You pull it out of your pack, but the amount of water slowly draining from a big crack in its screen tells you it probably won't be of much immediate use.\n",
    "\n",
    "Unless, that is, you can design a replacement for the device's video system! It seems to be some kind of cathode-ray tube screen and simple CPU that are both driven by a precise clock circuit. The clock circuit ticks at a constant rate; each tick is called a cycle.\n",
    "\n",
    "Start by figuring out the signal being sent by the CPU. The CPU has a single register, X, which starts with the value 1. It supports only two instructions:\n",
    "\n",
    "    addx V takes two cycles to complete. After two cycles, the X register is increased by the value V. (V can be negative.)\n",
    "    noop takes one cycle to complete. It has no other effect.\n",
    "\n",
    "The CPU uses these instructions in a program (your puzzle input) to, somehow, tell the screen what to draw.\n",
    "\n",
    "Consider the following small program:\n",
    "\n",
    "    noop\n",
    "    addx 3\n",
    "    addx -5\n",
    "\n",
    "Execution of this program proceeds as follows:\n",
    "\n",
    "    At the start of the first cycle, the noop instruction begins execution. During the first cycle, X is 1. After the first cycle, the noop instruction finishes execution, doing nothing.\n",
    "    At the start of the second cycle, the addx 3 instruction begins execution. During the second cycle, X is still 1.\n",
    "    During the third cycle, X is still 1. After the third cycle, the addx 3 instruction finishes execution, setting X to 4.\n",
    "    At the start of the fourth cycle, the addx -5 instruction begins execution. During the fourth cycle, X is still 4.\n",
    "    During the fifth cycle, X is still 4. After the fifth cycle, the addx -5 instruction finishes execution, setting X to -1.\n",
    "\n",
    "Maybe you can learn something by looking at the value of the X register throughout execution. For now, consider the signal strength (the cycle number multiplied by the value of the X register) during the 20th cycle and every 40 cycles after that (that is, during the 20th, 60th, 100th, 140th, 180th, and 220th cycles).\n",
    "\n",
    "For example, consider this larger program:\n",
    "\n",
    "test.txt\n",
    "\n",
    "The interesting signal strengths can be determined as follows:\n",
    "\n",
    "    During the 20th cycle, register X has the value 21, so the signal strength is 20 * 21 = 420. (The 20th cycle occurs in the middle of the second addx -1, so the value of register X is the starting value, 1, plus all of the other addx values up to that point: 1 + 15 - 11 + 6 - 3 + 5 - 1 - 8 + 13 + 4 = 21.)\n",
    "    During the 60th cycle, register X has the value 19, so the signal strength is 60 * 19 = 1140.\n",
    "    During the 100th cycle, register X has the value 18, so the signal strength is 100 * 18 = 1800.\n",
    "    During the 140th cycle, register X has the value 21, so the signal strength is 140 * 21 = 2940.\n",
    "    During the 180th cycle, register X has the value 16, so the signal strength is 180 * 16 = 2880.\n",
    "    During the 220th cycle, register X has the value 18, so the signal strength is 220 * 18 = 3960.\n",
    "\n",
    "The sum of these signal strengths is 13140.\n",
    "\n",
    "Find the signal strength during the 20th, 60th, 100th, 140th, 180th, and 220th cycles. What is the sum of these six signal strengths?"
   ]
  },
  {
   "cell_type": "code",
   "execution_count": null,
   "metadata": {},
   "outputs": [],
   "source": [
    "with open('input.txt') as f:\n",
    "\tdata = f.read().splitlines()"
   ]
  },
  {
   "cell_type": "code",
   "execution_count": null,
   "metadata": {},
   "outputs": [],
   "source": [
    "data "
   ]
  }
 ],
 "metadata": {
  "kernelspec": {
   "display_name": "Python 3",
   "language": "python",
   "name": "python3"
  },
  "language_info": {
   "name": "python",
   "version": "3.11.0 (main, Oct 24 2022, 18:26:48) [MSC v.1933 64 bit (AMD64)]"
  },
  "orig_nbformat": 4,
  "vscode": {
   "interpreter": {
    "hash": "8bb183d6f65149bde25a8207ad2fb4989b2757aac3d3ec63796cdeb74924c51a"
   }
  }
 },
 "nbformat": 4,
 "nbformat_minor": 2
}
