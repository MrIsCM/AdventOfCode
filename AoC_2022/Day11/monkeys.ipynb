{
 "cells": [
  {
   "attachments": {},
   "cell_type": "markdown",
   "metadata": {},
   "source": [
    "### Read files"
   ]
  },
  {
   "cell_type": "code",
   "execution_count": 33,
   "metadata": {},
   "outputs": [],
   "source": [
    "with open('in.txt', 'r') as f:\n",
    "\tdata = f.read().splitlines()\n",
    "\n",
    "with open('test.txt', 'r') as f:\n",
    "\ttest = f.read().splitlines()"
   ]
  },
  {
   "attachments": {},
   "cell_type": "markdown",
   "metadata": {},
   "source": [
    "### Parse and operate functions:\n",
    "- Parse:\n",
    "\t- Input: list - file read and splitted by lines\n",
    "\t- Output: list of dicts. Each dict represent a monkey. Keys of the dict:\n",
    "\t\t- id: monkey id [0, n] coincides with the list index, a bit redundant but clearer.\n",
    "\t\t- items: list with the item values.\n",
    "\t\t- operation: list with the operator (+, -, *, /, **) and the number to operate the item with\n",
    "\t\t- test: list - index 0: condition, number to module the item with 0; index 1: monkey ID to throw the item if the condition from idex 0 is met; idex 2: monkey ID if condition is not met.\n",
    "\t\t- inspected: int - number of time the monkey inspected an item.\n",
    "\t- Observations: None\n",
    "\n",
    "\n",
    "- Operate:\n",
    "\t- Input: item and list of operations\n",
    "\t- Output: returns the new value of the item. new_item = old_item \"operation[0]\" \"operation[1]\"\n",
    "\t- Obs: None"
   ]
  },
  {
   "cell_type": "code",
   "execution_count": 34,
   "metadata": {},
   "outputs": [],
   "source": [
    "def parse(test):\n",
    "\tmonkeys = []\n",
    "\tfor line in test:\n",
    "\t\tif line.strip()[:6] == 'Monkey':\n",
    "\t\t\tmonkeys.append({'id': int(line.strip()[-2])})\n",
    "\t\telif line.strip()[:8] == 'Starting':\n",
    "\t\t\tmonkeys[-1].update({'items' : [int(x) for x in line.strip()[15:].split(',')]})\n",
    "\t\telif line.strip()[:9] == 'Operation':\n",
    "\t\t\tif line.strip()[-9:] == 'old * old':\n",
    "\t\t\t\tmonkeys[-1].update({'operation': ['**', 2]}) \n",
    "\t\t\telse:\n",
    "\t\t\t\tmonkeys[-1].update({'operation': line.strip()[21:].split(' ')})\n",
    "\t\telif line.strip()[:4] == 'Test':\n",
    "\t\t\tmonkeys[-1].update({'test': [int(line.strip()[19:])]})\n",
    "\t\telif line.strip()[:7] == 'If true':\n",
    "\t\t\t# monkeys[-1].update({'True' : int(line.strip()[-1])})\n",
    "\t\t\tmonkeys[-1]['test'].append(int(line.strip()[-1]))\n",
    "\t\telif line.strip()[:8] == 'If false':\n",
    "\t\t\t# monkeys[-1].update({'False' : int(line.strip()[-1])})\n",
    "\t\t\tmonkeys[-1]['test'].append(int(line.strip()[-1]))\n",
    "\t\t\tmonkeys[-1].update({'inspected': 0})\n",
    "\t\telif line.strip() == '':\n",
    "\t\t\tpass\n",
    "\t\telse:\n",
    "\t\t\tprint('Error')\n",
    "\t\t\tprint(line)\n",
    "\n",
    "\treturn monkeys"
   ]
  },
  {
   "cell_type": "code",
   "execution_count": 35,
   "metadata": {},
   "outputs": [],
   "source": [
    "def operate(item, operations):\n",
    "\tif operations[0] == '+':\n",
    "\t\titem += int(operations[1])\n",
    "\telif operations[0] == '-':\n",
    "\t\titem -= int(operations[1])\n",
    "\telif operations[0] == '*':\n",
    "\t\titem *= int(operations[1])\n",
    "\telif operations[0] == '/':\n",
    "\t\titem /= int(operations[1])\n",
    "\telif operations[0] == '**':\n",
    "\t\titem **= int(operations[1])\n",
    "\treturn item"
   ]
  },
  {
   "attachments": {},
   "cell_type": "markdown",
   "metadata": {},
   "source": [
    "### Part 1"
   ]
  },
  {
   "cell_type": "code",
   "execution_count": 36,
   "metadata": {},
   "outputs": [],
   "source": [
    "def play1(monkeys, rounds=20):\n",
    "\tfor round in range(rounds):\n",
    "\t\tfor i in range(len(monkeys)):\n",
    "\t\t\tif len(monkeys[i]['items']) != 0:\n",
    "\t\t\t\t# Important to copy the list, otherwise it will be changed during the loop and it messes up the for loop\n",
    "\t\t\t\titems = monkeys[i]['items'].copy()\t\n",
    "\t\t\t\tfor item in items:\n",
    "\t\t\t\t\tmonkeys[i]['inspected'] += 1\n",
    "\t\t\t\t\tnew_item = operate(item, monkeys[i]['operation'])\n",
    "\t\t\t\t\tnew_item = new_item//3\n",
    "\t\n",
    "\t\t\t\t\t\n",
    "\t\t\t\t\tif new_item % monkeys[i]['test'][0] == 0:\n",
    "\t\t\t\t\t\tmonkeys[monkeys[i]['test'][1]]['items'].append(new_item)\n",
    "\t\t\t\t\t\tmonkeys[i]['items'].remove(item)\n",
    "\t\t\t\t\telse:\n",
    "\t\t\t\t\t\tmonkeys[monkeys[i]['test'][2]]['items'].append(new_item)\n",
    "\t\t\t\t\t\tmonkeys[i]['items'].remove(item)\n",
    "\n",
    "\tinspected = [monkey['inspected'] for monkey in monkeys]\n",
    "\tbiggest = big = 0\n",
    "\tfor item in inspected:\n",
    "\t\tif item > biggest:\n",
    "\t\t\tbig = biggest\n",
    "\t\t\tbiggest = item\n",
    "\t\telif biggest > item > big:\n",
    "\t\t\tbig = item\n",
    "\tprint(\"Part 1: \", biggest, big, \"Product: \", biggest*big)"
   ]
  },
  {
   "attachments": {},
   "cell_type": "markdown",
   "metadata": {},
   "source": [
    "### Part 2\n",
    "\n",
    "The other method is obsolete as the numbers (item's worry values) get very big very fast. To avoid this problem it is very usefull to use the [Chinese Remainder Theorem]\n",
    "\n",
    "[Chinese Remainder Theorem]: https://brilliant.org/wiki/chinese-remainder-theorem/"
   ]
  },
  {
   "cell_type": "code",
   "execution_count": 37,
   "metadata": {},
   "outputs": [],
   "source": [
    "def play2(monkeys, rounds=10_000):\n",
    "\ttests = [monkey['test'][0] for monkey in monkeys]\n",
    "\tsupermodulus = 1\n",
    "\tfor test in tests:\n",
    "\t\tsupermodulus *= test\n",
    "\tfor _ in range(rounds):\n",
    "\t\tfor monkey in monkeys:\n",
    "\t\t\tif len(monkey['items']) != 0:\n",
    "\t\t\t\t# Important to copy the list, otherwise it will be changed during the loop and it messes up the for loop\n",
    "\t\t\t\titems = monkey['items'].copy()\t\n",
    "\t\t\t\tfor item in items:\n",
    "\t\t\t\t\tmonkey['inspected'] += 1\n",
    "\t\t\t\t\tnew_item = operate(item, monkey['operation'])\n",
    "\t\t\t\t\tnew_item %= supermodulus\n",
    "\t\n",
    "\t\t\t\t\t\n",
    "\t\t\t\t\tif new_item % monkey['test'][0] == 0:\n",
    "\t\t\t\t\t\tmonkeys[monkey['test'][1]]['items'].append(new_item)\n",
    "\t\t\t\t\t\tmonkey['items'].remove(item)\n",
    "\t\t\t\t\telse:\n",
    "\t\t\t\t\t\tmonkeys[monkey['test'][2]]['items'].append(new_item)\n",
    "\t\t\t\t\t\tmonkey['items'].remove(item)\n",
    "\t\t\t\t\t\t\n",
    "\tinspected = [monkey['inspected'] for monkey in monkeys]\n",
    "\tbiggest = big = 0\n",
    "\tfor item in inspected:\n",
    "\t\tif item > biggest:\n",
    "\t\t\tbig = biggest\n",
    "\t\t\tbiggest = item\n",
    "\t\telif biggest > item > big:\n",
    "\t\t\tbig = item\n",
    "\tprint(\"Part 2: \", biggest, big, \"Product: \", biggest*big)"
   ]
  },
  {
   "cell_type": "code",
   "execution_count": 38,
   "metadata": {},
   "outputs": [
    {
     "name": "stdout",
     "output_type": "stream",
     "text": [
      "Part 1:  572 554 Product:  316888\n",
      "Part 2:  188167 187442 Product:  35270398814\n"
     ]
    }
   ],
   "source": [
    "monkeys = parse(data)\n",
    "play1(monkeys)\n",
    "monkeys = parse(data)\n",
    "play2(monkeys)"
   ]
  }
 ],
 "metadata": {
  "kernelspec": {
   "display_name": "Python 3",
   "language": "python",
   "name": "python3"
  },
  "language_info": {
   "codemirror_mode": {
    "name": "ipython",
    "version": 3
   },
   "file_extension": ".py",
   "mimetype": "text/x-python",
   "name": "python",
   "nbconvert_exporter": "python",
   "pygments_lexer": "ipython3",
   "version": "3.11.0"
  },
  "orig_nbformat": 4,
  "vscode": {
   "interpreter": {
    "hash": "8bb183d6f65149bde25a8207ad2fb4989b2757aac3d3ec63796cdeb74924c51a"
   }
  }
 },
 "nbformat": 4,
 "nbformat_minor": 2
}
