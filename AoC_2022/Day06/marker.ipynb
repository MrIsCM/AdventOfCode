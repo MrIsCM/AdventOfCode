{
 "cells": [
  {
   "attachments": {},
   "cell_type": "markdown",
   "metadata": {},
   "source": [
    "# --- Day 6: Tuning Trouble ---\n",
    "\n",
    "The preparations are finally complete; you and the Elves leave camp on foot and begin to make your way toward the star fruit grove.\n",
    "\n",
    "As you move through the dense undergrowth, one of the Elves gives you a handheld device. He says that it has many fancy features, but the most important one to set up right now is the communication system.\n",
    "\n",
    "However, because he's heard you have significant experience dealing with signal-based systems, he convinced the other Elves that it would be okay to give you their one malfunctioning device - surely you'll have no problem fixing it.\n",
    "\n",
    "As if inspired by comedic timing, the device emits a few colorful sparks.\n",
    "\n",
    "To be able to communicate with the Elves, the device needs to lock on to their signal. The signal is a series of seemingly-random characters that the device receives one at a time.\n",
    "\n",
    "To fix the communication system, you need to add a subroutine to the device that detects a start-of-packet marker in the datastream. In the protocol being used by the Elves, the start of a packet is indicated by a sequence of four characters that are all different.\n",
    "\n",
    "The device will send your subroutine a datastream buffer (your puzzle input); your subroutine needs to identify the first position where the four most recently received characters were all different. Specifically, it needs to report the number of characters from the beginning of the buffer to the end of the first such four-character marker.\n",
    "\n",
    "For example, suppose you receive the following datastream buffer:\n",
    "\n",
    "    mjqjpqmgbljsphdztnvjfqwrcgsmlb\n",
    "\n",
    "After the first three characters (mjq) have been received, there haven't been enough characters received yet to find the marker. The first time a marker could occur is after the fourth character is received, making the most recent four characters mjqj. Because j is repeated, this isn't a marker.\n",
    "\n",
    "The first time a marker appears is after the seventh character arrives. Once it does, the last four characters received are jpqm, which are all different. In this case, your subroutine should report the value 7, because the first start-of-packet marker is complete after 7 characters have been processed.\n",
    "\n",
    "Here are a few more examples:\n",
    "\n",
    "    bvwbjplbgvbhsrlpgdmjqwftvncz: first marker after character 5\n",
    "    nppdvjthqldpwncqszvftbrmjlhg: first marker after character 6\n",
    "    nznrnfrfntjfmvfwmzdfjlvtqnbhcprsg: first marker after character 10\n",
    "    zcfzfwzzqfrljwzlrfnpqdbhtmscgvjw: first marker after character 11\n",
    "\n",
    "How many characters need to be processed before the first start-of-packet marker is detected?\n"
   ]
  },
  {
   "cell_type": "code",
   "execution_count": 1,
   "metadata": {},
   "outputs": [],
   "source": [
    "# Read input\n",
    "with open('input.txt') as f:\n",
    "\tsignal = f.read().strip()"
   ]
  },
  {
   "cell_type": "code",
   "execution_count": 19,
   "metadata": {},
   "outputs": [
    {
     "name": "stdout",
     "output_type": "stream",
     "text": [
      "1235\n"
     ]
    }
   ],
   "source": [
    "for i in range(len(signal)-3):\n",
    "\tif signal[i] not in signal[i+1:i+4]:\n",
    "\t\tif signal[i+1] not in signal[i+2:i+4]:\n",
    "\t\t\tif signal[i+2] != signal[i+3]:\n",
    "\t\t\t\tprint(i+4)\t\n",
    "\t\t\t\tbreak\t\t\n",
    "\n",
    "n_4_non_repeating = i\n",
    "\n",
    "# Index starts at 0. Add 4 to get the last index of the non-repeating 4-character sequence.\n",
    "# If index started at 1, add 3. "
   ]
  },
  {
   "attachments": {},
   "cell_type": "markdown",
   "metadata": {},
   "source": [
    "# --- Part Two ---\n",
    "\n",
    "Your device's communication system is correctly detecting packets, but still isn't working. It looks like it also needs to look for messages.\n",
    "\n",
    "A start-of-message marker is just like a start-of-packet marker, except it consists of 14 distinct characters rather than 4.\n",
    "\n",
    "Here are the first positions of start-of-message markers for all of the above examples:\n",
    "\n",
    "    mjqjpqmgbljsphdztnvjfqwrcgsmlb: first marker after character 19\n",
    "    bvwbjplbgvbhsrlpgdmjqwftvncz: first marker after character 23\n",
    "    nppdvjthqldpwncqszvftbrmjlhg: first marker after character 23\n",
    "    nznrnfrfntjfmvfwmzdfjlvtqnbhcprsg: first marker after character 29\n",
    "    zcfzfwzzqfrljwzlrfnpqdbhtmscgvjw: first marker after character 26\n",
    "\n",
    "How many characters need to be processed before the first start-of-message marker is detected?\n"
   ]
  },
  {
   "cell_type": "code",
   "execution_count": 29,
   "metadata": {},
   "outputs": [
    {
     "name": "stdout",
     "output_type": "stream",
     "text": [
      "3051\n"
     ]
    }
   ],
   "source": [
    "# There has to be a better way of doing this\n",
    "for i in range(n_4_non_repeating, len(signal)-3):\n",
    "\tif signal[i] not in signal[i+1:i+14] and signal[i+1] not in signal[i+2:i+14]:\n",
    "\t\tif signal[i+2] not in signal[i+3:i+14] and signal[i+3] not in signal[i+4:i+14]:\n",
    "\t\t\tif signal[i+4] not in signal[i+5:i+14] and signal[i+5] not in signal[i+6:i+14]:\n",
    "\t\t\t\tif signal[i+6] not in signal[i+7:i+14] and signal[i+7] not in signal[i+8:i+14]:\n",
    "\t\t\t\t\tif signal[i+8] not in signal[i+9:i+14] and signal[i+9] not in signal[i+10:i+14]:\n",
    "\t\t\t\t\t\tif signal[i+10] not in signal[i+11:i+14] and signal[i+11] not in signal[i+12:i+14]:\n",
    "\t\t\t\t\t\t\tif signal[i+12] != signal[i+13]:\n",
    "\t\t\t\t\t\t\t\tprint(i+14)\t\n",
    "\t\t\t\t\t\t\t\tbreak\n",
    "n_14_non_repeating = i"
   ]
  },
  {
   "cell_type": "code",
   "execution_count": 31,
   "metadata": {},
   "outputs": [
    {
     "name": "stdout",
     "output_type": "stream",
     "text": [
      "3051\n"
     ]
    }
   ],
   "source": [
    "# 2 attempt\n",
    "# Maybe this is better, but it's still not great\n",
    "for i in range(n_4_non_repeating, len(signal)-3):\n",
    "\tif not(signal[i] not in signal[i+1:i+14] and signal[i+1] not in signal[i+2:i+14]):\n",
    "\t\tcontinue\n",
    "\tif not(signal[i+2] not in signal[i+3:i+14] and signal[i+3] not in signal[i+4:i+14]):\n",
    "\t\tcontinue\n",
    "\tif not(signal[i+4] not in signal[i+5:i+14] and signal[i+5] not in signal[i+6:i+14]):\n",
    "\t\tcontinue\n",
    "\tif not(signal[i+6] not in signal[i+7:i+14] and signal[i+7] not in signal[i+8:i+14]):\n",
    "\t\tcontinue\n",
    "\tif not(signal[i+8] not in signal[i+9:i+14] and signal[i+9] not in signal[i+10:i+14]):\n",
    "\t\tcontinue\n",
    "\tif not(signal[i+10] not in signal[i+11:i+14] and signal[i+11] not in signal[i+12:i+14]):\n",
    "\t\tcontinue\n",
    "\tif signal[i+12] != signal[i+13]:\n",
    "\t\tprint(i+14)\t\n",
    "\t\tbreak"
   ]
  }
 ],
 "metadata": {
  "kernelspec": {
   "display_name": "Python 3",
   "language": "python",
   "name": "python3"
  },
  "language_info": {
   "codemirror_mode": {
    "name": "ipython",
    "version": 3
   },
   "file_extension": ".py",
   "mimetype": "text/x-python",
   "name": "python",
   "nbconvert_exporter": "python",
   "pygments_lexer": "ipython3",
   "version": "3.11.0"
  },
  "orig_nbformat": 4,
  "vscode": {
   "interpreter": {
    "hash": "8bb183d6f65149bde25a8207ad2fb4989b2757aac3d3ec63796cdeb74924c51a"
   }
  }
 },
 "nbformat": 4,
 "nbformat_minor": 2
}
