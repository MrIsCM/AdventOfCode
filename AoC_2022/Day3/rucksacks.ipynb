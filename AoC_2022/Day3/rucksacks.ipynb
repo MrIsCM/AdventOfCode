{
 "cells": [
  {
   "attachments": {},
   "cell_type": "markdown",
   "metadata": {},
   "source": [
    "# --- Day 3: Rucksack Reorganization ---\n",
    "\n",
    "One Elf has the important job of loading all of the rucksacks with supplies for the jungle journey. Unfortunately, that Elf didn't quite follow the packing instructions, and so a few items now need to be rearranged.\n",
    "\n",
    "Each rucksack has two large compartments. All items of a given type are meant to go into exactly one of the two compartments. The Elf that did the packing failed to follow this rule for exactly one item type per rucksack.\n",
    "\n",
    "The Elves have made a list of all of the items currently in each rucksack (your puzzle input), but they need your help finding the errors. Every item type is identified by a single lowercase or uppercase letter (that is, a and A refer to different types of items).\n",
    "\n",
    "The list of items for each rucksack is given as characters all on a single line. A given rucksack always has the same number of items in each of its two compartments, so the first half of the characters represent items in the first compartment, while the second half of the characters represent items in the second compartment.\n",
    "\n",
    "For example, suppose you have the following list of contents from six rucksacks:\n",
    "\n",
    "    vJrwpWtwJgWrhcsFMMfFFhFp\n",
    "    jqHRNqRjqzjGDLGLrsFMfFZSrLrFZsSL\n",
    "    PmmdzqPrVvPwwTWBwg\n",
    "    wMqvLMZHhHMvwLHjbvcjnnSBnvTQFn\n",
    "    ttgJtRGJQctTZtZT\n",
    "    CrZsJsPPZsGzwwsLwLmpwMDw\n",
    "\n",
    "The first rucksack contains the items vJrwpWtwJgWrhcsFMMfFFhFp, which means its first compartment contains the items vJrwpWtwJgWr, while the second compartment contains the items hcsFMMfFFhFp. The only item type that appears in both compartments is lowercase p.\n",
    "The second rucksack's compartments contain jqHRNqRjqzjGDLGL and rsFMfFZSrLrFZsSL. The only item type that appears in both compartments is uppercase L.\n",
    "The third rucksack's compartments contain PmmdzqPrV and vPwwTWBwg; the only common item type is uppercase P.\n",
    "The fourth rucksack's compartments only share item type v.\n",
    "The fifth rucksack's compartments only share item type t.\n",
    "The sixth rucksack's compartments only share item type s.\n",
    "\n",
    "To help prioritize item rearrangement, every item type can be converted to a priority:\n",
    "\n",
    "    Lowercase item types a through z have priorities 1 through 26.\n",
    "    Uppercase item types A through Z have priorities 27 through 52.\n",
    "\n",
    "In the above example, the priority of the item type that appears in both compartments of each rucksack is 16 (p), 38 (L), 42 (P), 22 (v), 20 (t), and 19 (s); the sum of these is 157.\n",
    "\n",
    "Find the item type that appears in both compartments of each rucksack. What is the sum of the priorities of those item types?"
   ]
  },
  {
   "attachments": {},
   "cell_type": "markdown",
   "metadata": {},
   "source": [
    "### Though process\n",
    "\n",
    "1. Get list of strings (each string is a rucksack)\n",
    "2. Divided list in 2 equal lists\n",
    "3. Find common letter between those\n",
    "4. Covert letters to priority using ASCI\n",
    "   1. a = 1, ..., z=26 ; A = 27, ..., Z = 52\n",
    "   2. x_points = ASCI(x) + 1 - ASCI(a) \n",
    "   3. X_points = ASCI(X) + 27 - ASCI(A)\n",
    "5. Add them up"
   ]
  },
  {
   "cell_type": "code",
   "execution_count": 21,
   "metadata": {},
   "outputs": [],
   "source": [
    "with open('rucks.txt', 'r') as f:\n",
    "\trucksacks = f.read().splitlines()"
   ]
  },
  {
   "cell_type": "code",
   "execution_count": 41,
   "metadata": {},
   "outputs": [
    {
     "name": "stdout",
     "output_type": "stream",
     "text": [
      "7997\n"
     ]
    }
   ],
   "source": [
    "priority = 0\n",
    "for ruck in rucksacks:\n",
    "\tsack1 = ruck[0:len(ruck)//2]\n",
    "\tsack2 = ruck[len(ruck)//2:]\n",
    "\n",
    "\tcommon = list(set(sack1) & set(sack2))\n",
    "\tif ord(common[0]) <= ord('Z'):\n",
    "\t\tpriority += ord(common[0]) + 27 - ord('A') \n",
    "\telse:\n",
    "\t\tpriority += ord(common[0]) + 1 - ord('a')\n",
    "\n",
    "print(priority)\t"
   ]
  },
  {
   "attachments": {},
   "cell_type": "markdown",
   "metadata": {},
   "source": [
    "# --- Part Two ---\n",
    "\n",
    "As you finish identifying the misplaced items, the Elves come to you with another issue.\n",
    "\n",
    "For safety, the Elves are divided into groups of three. Every Elf carries a badge that identifies their group. For efficiency, within each group of three Elves, the badge is the only item type carried by all three Elves. That is, if a group's badge is item type B, then all three Elves will have item type B somewhere in their rucksack, and at most two of the Elves will be carrying any other item type.\n",
    "\n",
    "The problem is that someone forgot to put this year's updated authenticity sticker on the badges. All of the badges need to be pulled out of the rucksacks so the new authenticity stickers can be attached.\n",
    "\n",
    "Additionally, nobody wrote down which item type corresponds to each group's badges. The only way to tell which item type is the right one is by finding the one item type that is common between all three Elves in each group.\n",
    "\n",
    "Every set of three lines in your list corresponds to a single group, but each group can have a different badge item type. So, in the above example, the first group's rucksacks are the first three lines:\n",
    "\n",
    "\tvJrwpWtwJgWrhcsFMMfFFhFp\n",
    "\tjqHRNqRjqzjGDLGLrsFMfFZSrLrFZsSL\n",
    "\tPmmdzqPrVvPwwTWBwg\n",
    "\n",
    "And the second group's rucksacks are the next three lines:\n",
    "\n",
    "\twMqvLMZHhHMvwLHjbvcjnnSBnvTQFn\n",
    "\tttgJtRGJQctTZtZT\n",
    "\tCrZsJsPPZsGzwwsLwLmpwMDw\n",
    "\n",
    "In the first group, the only item type that appears in all three rucksacks is lowercase r; this must be their badges. In the second group, their badge item type must be Z.\n",
    "\n",
    "Priorities for these items must still be found to organize the sticker attachment efforts: here, they are 18 (r) for the first group and 52 (Z) for the second group. The sum of these is 70.\n",
    "\n",
    "Find the item type that corresponds to the badges of each three-Elf group. What is the sum of the priorities of those item types?\n"
   ]
  },
  {
   "cell_type": "code",
   "execution_count": 44,
   "metadata": {},
   "outputs": [
    {
     "data": {
      "text/plain": [
       "True"
      ]
     },
     "execution_count": 44,
     "metadata": {},
     "output_type": "execute_result"
    }
   ],
   "source": [
    "# Check if rucks.txt is divisible by 3\n",
    "len(rucksacks) % 3 == 0"
   ]
  },
  {
   "cell_type": "code",
   "execution_count": 45,
   "metadata": {},
   "outputs": [
    {
     "name": "stdout",
     "output_type": "stream",
     "text": [
      "2545\n"
     ]
    }
   ],
   "source": [
    "priority = 0\n",
    "for i in range(0, len(rucksacks)//3):\n",
    "\tsack1 = set(rucksacks[3*i])\n",
    "\tsack2 = set(rucksacks[3*i+1])\n",
    "\tsack3 = set(rucksacks[3*i+2])\n",
    "\n",
    "\tbadge = list(sack1 & sack2 & sack3)[0]\n",
    "\tif ord(badge) <= ord('Z'):\n",
    "\t\tpriority += ord(badge) + 27 - ord('A')\n",
    "\telse:\n",
    "\t\tpriority += ord(badge) + 1 - ord('a')\n",
    "\n",
    "print(priority)"
   ]
  }
 ],
 "metadata": {
  "kernelspec": {
   "display_name": "Python 3",
   "language": "python",
   "name": "python3"
  },
  "language_info": {
   "codemirror_mode": {
    "name": "ipython",
    "version": 3
   },
   "file_extension": ".py",
   "mimetype": "text/x-python",
   "name": "python",
   "nbconvert_exporter": "python",
   "pygments_lexer": "ipython3",
   "version": "3.11.0"
  },
  "orig_nbformat": 4,
  "vscode": {
   "interpreter": {
    "hash": "8bb183d6f65149bde25a8207ad2fb4989b2757aac3d3ec63796cdeb74924c51a"
   }
  }
 },
 "nbformat": 4,
 "nbformat_minor": 2
}
