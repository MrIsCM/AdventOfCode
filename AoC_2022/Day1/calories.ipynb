{
 "cells": [
  {
   "attachments": {},
   "cell_type": "markdown",
   "metadata": {},
   "source": [
    "# --- Day 1: Calorie Counting ---\n",
    "\n",
    "Santa's reindeer typically eat regular reindeer food, but they need a lot of magical energy to deliver presents on Christmas. For that, their favorite snack is a special type of star fruit that only grows deep in the jungle. The Elves have brought you on their annual expedition to the grove where the fruit grows.\n",
    "\n",
    "To supply enough magical energy, the expedition needs to retrieve a minimum of fifty stars by December 25th. Although the Elves assure you that the grove has plenty of fruit, you decide to grab any fruit you see along the way, just in case.\n",
    "\n",
    "Collect stars by solving puzzles. Two puzzles will be made available on each day in the Advent calendar; the second puzzle is unlocked when you complete the first. Each puzzle grants one star. Good luck!\n",
    "\n",
    "The jungle must be too overgrown and difficult to navigate in vehicles or access from the air; the Elves' expedition traditionally goes on foot. As your boats approach land, the Elves begin taking inventory of their supplies. One important consideration is food - in particular, the number of Calories each Elf is carrying (your puzzle input).\n",
    "\n",
    "The Elves take turns writing down the number of Calories contained by the various meals, snacks, rations, etc. that they've brought with them, one item per line. Each Elf separates their own inventory from the previous Elf's inventory (if any) by a blank line.\n",
    "\n",
    "For example, suppose the Elves finish writing their items' Calories and end up with the following list:\n",
    "\n",
    "\t1000\n",
    "\t2000\n",
    "\t3000\n",
    "\n",
    "\t4000\n",
    "\n",
    "\t5000\n",
    "\t6000\n",
    "\n",
    "\t7000\n",
    "\t8000\n",
    "\t9000\n",
    "\n",
    "\t10000\n",
    "\n",
    "This list represents the Calories of the food carried by five Elves:\n",
    "\n",
    "*The first Elf is carrying food with 1000, 2000, and 3000 Calories, a total of 6000 Calories.\n",
    "The second Elf is carrying one food item with 4000 Calories.\n",
    "The third Elf is carrying food with 5000 and 6000 Calories, a total of 11000 Calories.\n",
    "The fourth Elf is carrying food with 7000, 8000, and 9000 Calories, a total of 24000 Calories.\n",
    "The fifth Elf is carrying one food item with 10000 Calories.*\n",
    "\n",
    "In case the Elves get hungry and need extra snacks, they need to know which Elf to ask: they'd like to know how many Calories are being carried by the Elf carrying the most Calories. In the example above, this is 24000 (carried by the fourth Elf).\n",
    "\n",
    "Find the Elf carrying the most Calories. How many total Calories is that Elf carrying?\n"
   ]
  },
  {
   "cell_type": "code",
   "execution_count": 33,
   "metadata": {},
   "outputs": [],
   "source": [
    "import numpy as np"
   ]
  },
  {
   "cell_type": "code",
   "execution_count": 34,
   "metadata": {},
   "outputs": [],
   "source": [
    "with open('calories.txt') as f:\n",
    "\tcalories = f.read().split('\\n\\n')"
   ]
  },
  {
   "cell_type": "code",
   "execution_count": 35,
   "metadata": {},
   "outputs": [],
   "source": [
    "elf_calories = []\n",
    "sum = 0\n",
    "for calorie in calories:\n",
    "\tcalorie = calorie.split('\\n')\n",
    "\tfor c in calorie:\n",
    "\t\tsum += int(c)\n",
    "\telf_calories.append(sum)\n",
    "\tsum = 0\n"
   ]
  },
  {
   "cell_type": "code",
   "execution_count": 36,
   "metadata": {},
   "outputs": [
    {
     "name": "stdout",
     "output_type": "stream",
     "text": [
      "Elf #159 has the most calories: 75501\n"
     ]
    }
   ],
   "source": [
    "print(f\"Elf #{elf_calories.index(max(elf_calories))} has the most calories: {max(elf_calories)}\")"
   ]
  },
  {
   "attachments": {},
   "cell_type": "markdown",
   "metadata": {},
   "source": [
    "# --- Part Two ---\n",
    "\n",
    "By the time you calculate the answer to the Elves' question, they've already realized that the Elf carrying the most Calories of food might eventually run out of snacks.\n",
    "\n",
    "To avoid this unacceptable situation, the Elves would instead like to know the total Calories carried by the top three Elves carrying the most Calories. That way, even if one of those Elves runs out of snacks, they still have two backups.\n",
    "\n",
    "In the example above, the top three Elves are the fourth Elf (with 24000 Calories), then the third Elf (with 11000 Calories), then the fifth Elf (with 10000 Calories). The sum of the Calories carried by these three elves is 45000.\n",
    "\n",
    "Find the top three Elves carrying the most Calories. How many Calories are those Elves carrying in total?\n"
   ]
  },
  {
   "cell_type": "code",
   "execution_count": 37,
   "metadata": {},
   "outputs": [
    {
     "name": "stdout",
     "output_type": "stream",
     "text": [
      "Total calories: 215594, ELfs: [159, 128, 177]\n"
     ]
    }
   ],
   "source": [
    "total = 0\n",
    "indexes = []\n",
    "for i in range(3):\n",
    "\ttotal += max(elf_calories)\n",
    "\tindexes.append(elf_calories.index(max(elf_calories)))\n",
    "\telf_calories.remove(max(elf_calories))\n",
    "\n",
    "print(f\"Total calories: {total}, ELfs: {indexes}\")"
   ]
  }
 ],
 "metadata": {
  "kernelspec": {
   "display_name": "Python 3",
   "language": "python",
   "name": "python3"
  },
  "language_info": {
   "codemirror_mode": {
    "name": "ipython",
    "version": 3
   },
   "file_extension": ".py",
   "mimetype": "text/x-python",
   "name": "python",
   "nbconvert_exporter": "python",
   "pygments_lexer": "ipython3",
   "version": "3.11.0 (main, Oct 24 2022, 18:26:48) [MSC v.1933 64 bit (AMD64)]"
  },
  "orig_nbformat": 4,
  "vscode": {
   "interpreter": {
    "hash": "8bb183d6f65149bde25a8207ad2fb4989b2757aac3d3ec63796cdeb74924c51a"
   }
  }
 },
 "nbformat": 4,
 "nbformat_minor": 2
}
