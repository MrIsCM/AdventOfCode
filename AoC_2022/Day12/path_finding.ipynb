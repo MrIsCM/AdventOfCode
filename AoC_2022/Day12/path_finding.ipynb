{
 "cells": [
  {
   "cell_type": "code",
   "execution_count": 3,
   "metadata": {},
   "outputs": [],
   "source": [
    "from collections import deque"
   ]
  },
  {
   "cell_type": "code",
   "execution_count": 4,
   "metadata": {},
   "outputs": [],
   "source": [
    "# Input\n",
    "with open('in.txt', 'r') as f:\n",
    "\tgrid = f.read().splitlines()\n",
    "# Test\n",
    "with open('test.txt', 'r') as f:\n",
    "\ttest = f.read().splitlines()"
   ]
  },
  {
   "cell_type": "code",
   "execution_count": 5,
   "metadata": {},
   "outputs": [],
   "source": [
    "def find_S_and_E(grid):\n",
    "\tfor r, line in enumerate(grid):\n",
    "\t\tif 'S' in line:\n",
    "\t\t\tstart = (r, line.index('S'))\n",
    "\t\tif 'E' in line:\n",
    "\t\t\tend = (r, line.index('E'))\n",
    "\treturn start, end"
   ]
  },
  {
   "cell_type": "code",
   "execution_count": 14,
   "metadata": {},
   "outputs": [],
   "source": [
    "def find_path(grid, start, end):\n",
    "\n",
    "\t# Height dictionary. a = 1, b = 2, ..., z = 26, S = a = 1, E = z = 26\n",
    "\t# ASCII values: a=97, z=122\n",
    "\theights = {chr(i): i-ord('a')+1 for i in range(ord('a'), ord('z')+1)}\n",
    "\theights['S'] = 1\n",
    "\theights['E'] = 26\n",
    "\n",
    "\t# Posible moves\n",
    "\tdirections = [(0,1), (0,-1), (1,0), (-1,0)]\n",
    "\t\n",
    "\n",
    "\tqueue, visited = deque(), set()\n",
    "\tqueue.append([start])\n",
    "\n",
    "\twhile queue:\n",
    "\t\tcurrent = queue.popleft()\n",
    "\t\ti, j = current[-1]\n",
    "\t\tif (i,j) not in visited:\n",
    "\t\t\tvisited.add((i,j))\n",
    "\t\t\tif (i,j) == end:\n",
    "\t\t\t\treturn len(current) - 1\n",
    "\t\t\th1 = heights[grid[i][j]]\n",
    "\t\t\tfor dx, dy in directions:\n",
    "\t\t\t\tnx, ny = i+dx, j+dy\n",
    "\t\t\t\tif 0 <= nx < len(grid) and 0 <= ny < len(grid[0]):\n",
    "\t\t\t\t\th2 = heights[grid[nx][ny]]\n",
    "\t\t\t\t\tif h2 - h1 <= 1:\n",
    "\t\t\t\t\t\tpath = current[:]\n",
    "\t\t\t\t\t\tpath.append((nx, ny))\n",
    "\t\t\t\t\t\tqueue.append(path)"
   ]
  },
  {
   "cell_type": "code",
   "execution_count": 16,
   "metadata": {},
   "outputs": [
    {
     "name": "stdout",
     "output_type": "stream",
     "text": [
      "447\n"
     ]
    }
   ],
   "source": [
    "print(find_path(grid, *find_S_and_E(grid)))\n",
    "# start, end = find_S_and_E(test)\n",
    "# print(find_path(test, start, end))"
   ]
  },
  {
   "attachments": {},
   "cell_type": "markdown",
   "metadata": {},
   "source": [
    "Part 2"
   ]
  },
  {
   "cell_type": "code",
   "execution_count": 8,
   "metadata": {},
   "outputs": [],
   "source": [
    "def find_As_and_E(grid):\n",
    "\tstarts = deque()\n",
    "\tfor r, line in enumerate(grid):\n",
    "\t\tif 'a' in line:\n",
    "\t\t\tstarts.append((r, line.index('a')))\n",
    "\t\tif 'E' in line:\n",
    "\t\t\tend = (r, line.index('E'))\n",
    "\treturn starts, end"
   ]
  },
  {
   "cell_type": "code",
   "execution_count": 19,
   "metadata": {},
   "outputs": [
    {
     "name": "stdout",
     "output_type": "stream",
     "text": [
      "446\n"
     ]
    }
   ],
   "source": [
    "starts, end = find_As_and_E(grid)\n",
    "lengths = [lenght for start in starts if (lenght := find_path(grid, start, end)) is not None]\n",
    "print(min(lengths))"
   ]
  },
  {
   "cell_type": "code",
   "execution_count": 24,
   "metadata": {},
   "outputs": [
    {
     "data": {
      "text/plain": [
       "446"
      ]
     },
     "execution_count": 24,
     "metadata": {},
     "output_type": "execute_result"
    }
   ],
   "source": [
    "lengths = []\n",
    "for start in starts:\n",
    "\tlength = find_path(grid, start, end)\n",
    "\tif length is not None:\n",
    "\t\tlengths.append(length)\n",
    "min(lengths)"
   ]
  }
 ],
 "metadata": {
  "kernelspec": {
   "display_name": "Python 3",
   "language": "python",
   "name": "python3"
  },
  "language_info": {
   "codemirror_mode": {
    "name": "ipython",
    "version": 3
   },
   "file_extension": ".py",
   "mimetype": "text/x-python",
   "name": "python",
   "nbconvert_exporter": "python",
   "pygments_lexer": "ipython3",
   "version": "3.11.0"
  },
  "orig_nbformat": 4,
  "vscode": {
   "interpreter": {
    "hash": "8bb183d6f65149bde25a8207ad2fb4989b2757aac3d3ec63796cdeb74924c51a"
   }
  }
 },
 "nbformat": 4,
 "nbformat_minor": 2
}
